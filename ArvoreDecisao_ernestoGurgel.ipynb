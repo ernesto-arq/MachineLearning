{
  "nbformat": 4,
  "nbformat_minor": 0,
  "metadata": {
    "colab": {
      "name": "ArvoreDecisao_ernestoGurgel.ipynb",
      "provenance": [],
      "collapsed_sections": []
    },
    "kernelspec": {
      "name": "python3",
      "display_name": "Python 3"
    },
    "language_info": {
      "name": "python"
    }
  },
  "cells": [
    {
      "cell_type": "code",
      "metadata": {
        "id": "6cUQV6qEqkAM"
      },
      "source": [
        "import pandas as pd\n",
        "import numpy as np\n",
        "import graphviz \n",
        "\n",
        "from matplotlib import pyplot as plt\n",
        "from sklearn import datasets\n",
        "from sklearn.model_selection import train_test_split\n",
        "from sklearn.tree import DecisionTreeClassifier,export_graphviz, plot_tree, export_text\n",
        "from sklearn.metrics import confusion_matrix, balanced_accuracy_score\n"
      ],
      "execution_count": null,
      "outputs": []
    },
    {
      "cell_type": "code",
      "metadata": {
        "id": "r1y2wJCstF1h"
      },
      "source": [
        "def plot_decision_boundaries(X, y, model_class, ax, **model_params):\n",
        "    \"\"\"\n",
        "    Function to plot the decision boundaries of a classification model.\n",
        "    This uses just the first two columns of the data for fitting \n",
        "    the model as we need to find the predicted value for every point in \n",
        "    scatter plot.\n",
        "    Arguments:\n",
        "            X: Feature data as a NumPy-type array.\n",
        "            y: Label data as a NumPy-type array.\n",
        "            model_class: A Scikit-learn ML estimator class \n",
        "            e.g. GaussianNB (imported from sklearn.naive_bayes) or\n",
        "            LogisticRegression (imported from sklearn.linear_model)\n",
        "            **model_params: Model parameters to be passed on to the ML estimator\n",
        "    \n",
        "    Typical code example:\n",
        "            plt.figure()\n",
        "            plt.title(\"KNN decision boundary with neighbros: 5\",fontsize=16)\n",
        "            plot_decision_boundaries(X_train,y_train,KNeighborsClassifier,n_neighbors=5)\n",
        "            plt.show()\n",
        "    \"\"\"\n",
        "    try:\n",
        "        X = np.array(X)\n",
        "        y = np.array(y).flatten()\n",
        "    except:\n",
        "        print(\"Coercing input data to NumPy arrays failed\")\n",
        "    # Reduces to the first two columns of data\n",
        "    reduced_data = X[:, :2]\n",
        "    model = model_class\n",
        "    # # Instantiate the model object\n",
        "    # model = model_class(**model_params)\n",
        "    # # Fits the model with the reduced data\n",
        "    # model.fit(reduced_data, y)\n",
        "\n",
        "    # Step size of the mesh. Decrease to increase the quality of the VQ.\n",
        "    h = .02     # point in the mesh [x_min, m_max]x[y_min, y_max].    \n",
        "\n",
        "    # Plot the decision boundary. For that, we will assign a color to each\n",
        "    x_min, x_max = reduced_data[:, 0].min() - 1, reduced_data[:, 0].max() + 1\n",
        "    y_min, y_max = reduced_data[:, 1].min() - 1, reduced_data[:, 1].max() + 1\n",
        "    # Meshgrid creation\n",
        "    xx, yy = np.meshgrid(np.arange(x_min, x_max, h), np.arange(y_min, y_max, h))\n",
        "\n",
        "    # Obtain labels for each point in mesh using the model.\n",
        "    Z = model.predict(np.c_[xx.ravel(), yy.ravel()])    \n",
        "\n",
        "    x_min, x_max = X[:, 0].min() - 1, X[:, 0].max() + 1\n",
        "    y_min, y_max = X[:, 1].min() - 1, X[:, 1].max() + 1\n",
        "    xx, yy = np.meshgrid(np.arange(x_min, x_max, 0.1),\n",
        "                         np.arange(y_min, y_max, 0.1))\n",
        "\n",
        "    # Predictions to obtain the classification results\n",
        "    Z = model.predict(np.c_[xx.ravel(), yy.ravel()]).reshape(xx.shape)\n",
        "\n",
        "    # Plotting\n",
        "    # plt.contourf(xx, yy, Z, alpha=0.4)\n",
        "    # plt.scatter(X[:, 0], X[:, 1], c=y, alpha=0.8)\n",
        "    # plt.xlabel(\"Feature-1\",fontsize=15)\n",
        "    # plt.ylabel(\"Feature-2\",fontsize=15)\n",
        "    # plt.xticks(fontsize=14)\n",
        "    # plt.yticks(fontsize=14)\n",
        "\n",
        "    ax.contourf(xx, yy, Z, alpha=0.4)\n",
        "    ax.scatter(X[:, 0], X[:, 1], c=y, alpha=0.8)\n",
        "    # ax.xlabel(\"Feature-1\",fontsize=15)\n",
        "    # ax.ylabel(\"Feature-2\",fontsize=15)\n",
        "    # ax.xticks(fontsize=14)\n",
        "    # ax.yticks(fontsize=14)\n",
        "    return ax\n",
        "\n",
        "def plot_tree_complete(clf, data):\n",
        "  dot_data = export_graphviz(clf, out_file=None, \n",
        "                      feature_names=data.feature_names,  \n",
        "                      class_names=data.target_names,  \n",
        "                      filled=True, rounded=True,  \n",
        "                      special_characters=True)  \n",
        "  graph = graphviz.Source(dot_data)  \n",
        "  return graph "
      ],
      "execution_count": null,
      "outputs": []
    },
    {
      "cell_type": "code",
      "metadata": {
        "id": "4l1dUZq_Umav"
      },
      "source": [
        "# df_diabetes = pd.read_csv('sample_data/diabetes.csv')\n",
        "# data = datasets.load_breast_cancer()\n",
        "data=datasets.load_wine()\n",
        "X = pd.DataFrame(data.data, columns=data.feature_names)\n",
        "y = data.target\n",
        "\n",
        "X_train, X_test, y_train, y_test = train_test_split(X, y, random_state=10)"
      ],
      "execution_count": null,
      "outputs": []
    },
    {
      "cell_type": "code",
      "metadata": {
        "colab": {
          "base_uri": "https://localhost:8080/",
          "height": 204
        },
        "id": "6whGJ-eZUmhd",
        "outputId": "4a517ef8-e991-4b71-9128-18b257eeb1e0"
      },
      "source": [
        "X.head()"
      ],
      "execution_count": null,
      "outputs": [
        {
          "output_type": "execute_result",
          "data": {
            "text/html": [
              "<div>\n",
              "<style scoped>\n",
              "    .dataframe tbody tr th:only-of-type {\n",
              "        vertical-align: middle;\n",
              "    }\n",
              "\n",
              "    .dataframe tbody tr th {\n",
              "        vertical-align: top;\n",
              "    }\n",
              "\n",
              "    .dataframe thead th {\n",
              "        text-align: right;\n",
              "    }\n",
              "</style>\n",
              "<table border=\"1\" class=\"dataframe\">\n",
              "  <thead>\n",
              "    <tr style=\"text-align: right;\">\n",
              "      <th></th>\n",
              "      <th>alcohol</th>\n",
              "      <th>malic_acid</th>\n",
              "      <th>ash</th>\n",
              "      <th>alcalinity_of_ash</th>\n",
              "      <th>magnesium</th>\n",
              "      <th>total_phenols</th>\n",
              "      <th>flavanoids</th>\n",
              "      <th>nonflavanoid_phenols</th>\n",
              "      <th>proanthocyanins</th>\n",
              "      <th>color_intensity</th>\n",
              "      <th>hue</th>\n",
              "      <th>od280/od315_of_diluted_wines</th>\n",
              "      <th>proline</th>\n",
              "    </tr>\n",
              "  </thead>\n",
              "  <tbody>\n",
              "    <tr>\n",
              "      <th>0</th>\n",
              "      <td>14.23</td>\n",
              "      <td>1.71</td>\n",
              "      <td>2.43</td>\n",
              "      <td>15.6</td>\n",
              "      <td>127.0</td>\n",
              "      <td>2.80</td>\n",
              "      <td>3.06</td>\n",
              "      <td>0.28</td>\n",
              "      <td>2.29</td>\n",
              "      <td>5.64</td>\n",
              "      <td>1.04</td>\n",
              "      <td>3.92</td>\n",
              "      <td>1065.0</td>\n",
              "    </tr>\n",
              "    <tr>\n",
              "      <th>1</th>\n",
              "      <td>13.20</td>\n",
              "      <td>1.78</td>\n",
              "      <td>2.14</td>\n",
              "      <td>11.2</td>\n",
              "      <td>100.0</td>\n",
              "      <td>2.65</td>\n",
              "      <td>2.76</td>\n",
              "      <td>0.26</td>\n",
              "      <td>1.28</td>\n",
              "      <td>4.38</td>\n",
              "      <td>1.05</td>\n",
              "      <td>3.40</td>\n",
              "      <td>1050.0</td>\n",
              "    </tr>\n",
              "    <tr>\n",
              "      <th>2</th>\n",
              "      <td>13.16</td>\n",
              "      <td>2.36</td>\n",
              "      <td>2.67</td>\n",
              "      <td>18.6</td>\n",
              "      <td>101.0</td>\n",
              "      <td>2.80</td>\n",
              "      <td>3.24</td>\n",
              "      <td>0.30</td>\n",
              "      <td>2.81</td>\n",
              "      <td>5.68</td>\n",
              "      <td>1.03</td>\n",
              "      <td>3.17</td>\n",
              "      <td>1185.0</td>\n",
              "    </tr>\n",
              "    <tr>\n",
              "      <th>3</th>\n",
              "      <td>14.37</td>\n",
              "      <td>1.95</td>\n",
              "      <td>2.50</td>\n",
              "      <td>16.8</td>\n",
              "      <td>113.0</td>\n",
              "      <td>3.85</td>\n",
              "      <td>3.49</td>\n",
              "      <td>0.24</td>\n",
              "      <td>2.18</td>\n",
              "      <td>7.80</td>\n",
              "      <td>0.86</td>\n",
              "      <td>3.45</td>\n",
              "      <td>1480.0</td>\n",
              "    </tr>\n",
              "    <tr>\n",
              "      <th>4</th>\n",
              "      <td>13.24</td>\n",
              "      <td>2.59</td>\n",
              "      <td>2.87</td>\n",
              "      <td>21.0</td>\n",
              "      <td>118.0</td>\n",
              "      <td>2.80</td>\n",
              "      <td>2.69</td>\n",
              "      <td>0.39</td>\n",
              "      <td>1.82</td>\n",
              "      <td>4.32</td>\n",
              "      <td>1.04</td>\n",
              "      <td>2.93</td>\n",
              "      <td>735.0</td>\n",
              "    </tr>\n",
              "  </tbody>\n",
              "</table>\n",
              "</div>"
            ],
            "text/plain": [
              "   alcohol  malic_acid   ash  ...   hue  od280/od315_of_diluted_wines  proline\n",
              "0    14.23        1.71  2.43  ...  1.04                          3.92   1065.0\n",
              "1    13.20        1.78  2.14  ...  1.05                          3.40   1050.0\n",
              "2    13.16        2.36  2.67  ...  1.03                          3.17   1185.0\n",
              "3    14.37        1.95  2.50  ...  0.86                          3.45   1480.0\n",
              "4    13.24        2.59  2.87  ...  1.04                          2.93    735.0\n",
              "\n",
              "[5 rows x 13 columns]"
            ]
          },
          "metadata": {
            "tags": []
          },
          "execution_count": 4
        }
      ]
    },
    {
      "cell_type": "code",
      "metadata": {
        "colab": {
          "base_uri": "https://localhost:8080/"
        },
        "id": "3GfXvJqqyIV1",
        "outputId": "cd24c986-0fde-4c0a-deb5-ed48f2ade760"
      },
      "source": [
        "pd.Series(y).value_counts()"
      ],
      "execution_count": null,
      "outputs": [
        {
          "output_type": "execute_result",
          "data": {
            "text/plain": [
              "1    71\n",
              "0    59\n",
              "2    48\n",
              "dtype: int64"
            ]
          },
          "metadata": {
            "tags": []
          },
          "execution_count": 5
        }
      ]
    },
    {
      "cell_type": "markdown",
      "metadata": {
        "id": "3snyV1zbfD3e"
      },
      "source": [
        "# Será que diferentes critérios de separacão resultam nas mesmas árvores?\n",
        "\n",
        "### Índice Gini"
      ]
    },
    {
      "cell_type": "code",
      "metadata": {
        "colab": {
          "base_uri": "https://localhost:8080/",
          "height": 829
        },
        "id": "AmHKJtmiUmk5",
        "outputId": "d11c335b-328b-4999-a4a6-47883c1a0a86"
      },
      "source": [
        "dt_gini = DecisionTreeClassifier(criterion='gini', random_state=10)\n",
        "dt_gini.fit(X_train, y_train)\n",
        "plot_tree(dt_gini) \n",
        "plot_tree_complete(dt_gini, data)"
      ],
      "execution_count": null,
      "outputs": [
        {
          "output_type": "execute_result",
          "data": {
            "text/plain": [
              "<graphviz.files.Source at 0x7f2dbf9c2750>"
            ],
            "image/svg+xml": "<?xml version=\"1.0\" encoding=\"UTF-8\" standalone=\"no\"?>\n<!DOCTYPE svg PUBLIC \"-//W3C//DTD SVG 1.1//EN\"\n \"http://www.w3.org/Graphics/SVG/1.1/DTD/svg11.dtd\">\n<!-- Generated by graphviz version 2.40.1 (20161225.0304)\n -->\n<!-- Title: Tree Pages: 1 -->\n<svg width=\"692pt\" height=\"433pt\"\n viewBox=\"0.00 0.00 692.00 433.00\" xmlns=\"http://www.w3.org/2000/svg\" xmlns:xlink=\"http://www.w3.org/1999/xlink\">\n<g id=\"graph0\" class=\"graph\" transform=\"scale(1 1) rotate(0) translate(4 429)\">\n<title>Tree</title>\n<polygon fill=\"#ffffff\" stroke=\"transparent\" points=\"-4,4 -4,-429 688,-429 688,4 -4,4\"/>\n<!-- 0 -->\n<g id=\"node1\" class=\"node\">\n<title>0</title>\n<path fill=\"#fafefc\" stroke=\"#000000\" d=\"M407,-425C407,-425 270,-425 270,-425 264,-425 258,-419 258,-413 258,-413 258,-354 258,-354 258,-348 264,-342 270,-342 270,-342 407,-342 407,-342 413,-342 419,-348 419,-354 419,-354 419,-413 419,-413 419,-419 413,-425 407,-425\"/>\n<text text-anchor=\"start\" x=\"266\" y=\"-409.8\" font-family=\"Helvetica,sans-Serif\" font-size=\"14.00\" fill=\"#000000\">color_intensity ≤ 3.945</text>\n<text text-anchor=\"start\" x=\"300.5\" y=\"-394.8\" font-family=\"Helvetica,sans-Serif\" font-size=\"14.00\" fill=\"#000000\">gini = 0.664</text>\n<text text-anchor=\"start\" x=\"290.5\" y=\"-379.8\" font-family=\"Helvetica,sans-Serif\" font-size=\"14.00\" fill=\"#000000\">samples = 133</text>\n<text text-anchor=\"start\" x=\"276.5\" y=\"-364.8\" font-family=\"Helvetica,sans-Serif\" font-size=\"14.00\" fill=\"#000000\">value = [46, 48, 39]</text>\n<text text-anchor=\"start\" x=\"288.5\" y=\"-349.8\" font-family=\"Helvetica,sans-Serif\" font-size=\"14.00\" fill=\"#000000\">class = class_1</text>\n</g>\n<!-- 1 -->\n<g id=\"node2\" class=\"node\">\n<title>1</title>\n<path fill=\"#4fe88f\" stroke=\"#000000\" d=\"M316,-306C316,-306 217,-306 217,-306 211,-306 205,-300 205,-294 205,-294 205,-235 205,-235 205,-229 211,-223 217,-223 217,-223 316,-223 316,-223 322,-223 328,-229 328,-235 328,-235 328,-294 328,-294 328,-300 322,-306 316,-306\"/>\n<text text-anchor=\"start\" x=\"218.5\" y=\"-290.8\" font-family=\"Helvetica,sans-Serif\" font-size=\"14.00\" fill=\"#000000\">proline ≤ 987.5</text>\n<text text-anchor=\"start\" x=\"228.5\" y=\"-275.8\" font-family=\"Helvetica,sans-Serif\" font-size=\"14.00\" fill=\"#000000\">gini = 0.177</text>\n<text text-anchor=\"start\" x=\"222.5\" y=\"-260.8\" font-family=\"Helvetica,sans-Serif\" font-size=\"14.00\" fill=\"#000000\">samples = 51</text>\n<text text-anchor=\"start\" x=\"213\" y=\"-245.8\" font-family=\"Helvetica,sans-Serif\" font-size=\"14.00\" fill=\"#000000\">value = [5, 46, 0]</text>\n<text text-anchor=\"start\" x=\"216.5\" y=\"-230.8\" font-family=\"Helvetica,sans-Serif\" font-size=\"14.00\" fill=\"#000000\">class = class_1</text>\n</g>\n<!-- 0&#45;&gt;1 -->\n<g id=\"edge1\" class=\"edge\">\n<title>0&#45;&gt;1</title>\n<path fill=\"none\" stroke=\"#000000\" d=\"M313.3179,-341.8796C308.0867,-333.2335 302.5195,-324.0322 297.1177,-315.1042\"/>\n<polygon fill=\"#000000\" stroke=\"#000000\" points=\"299.9608,-313.0421 291.7896,-306.2981 293.9717,-316.6658 299.9608,-313.0421\"/>\n<text text-anchor=\"middle\" x=\"285.816\" y=\"-326.8739\" font-family=\"Helvetica,sans-Serif\" font-size=\"14.00\" fill=\"#000000\">True</text>\n</g>\n<!-- 6 -->\n<g id=\"node7\" class=\"node\">\n<title>6</title>\n<path fill=\"#fef9f6\" stroke=\"#000000\" d=\"M465,-306C465,-306 358,-306 358,-306 352,-306 346,-300 346,-294 346,-294 346,-235 346,-235 346,-229 352,-223 358,-223 358,-223 465,-223 465,-223 471,-223 477,-229 477,-235 477,-235 477,-294 477,-294 477,-300 471,-306 465,-306\"/>\n<text text-anchor=\"start\" x=\"356.5\" y=\"-290.8\" font-family=\"Helvetica,sans-Serif\" font-size=\"14.00\" fill=\"#000000\">flavanoids ≤ 1.88</text>\n<text text-anchor=\"start\" x=\"373.5\" y=\"-275.8\" font-family=\"Helvetica,sans-Serif\" font-size=\"14.00\" fill=\"#000000\">gini = 0.523</text>\n<text text-anchor=\"start\" x=\"367.5\" y=\"-260.8\" font-family=\"Helvetica,sans-Serif\" font-size=\"14.00\" fill=\"#000000\">samples = 82</text>\n<text text-anchor=\"start\" x=\"354\" y=\"-245.8\" font-family=\"Helvetica,sans-Serif\" font-size=\"14.00\" fill=\"#000000\">value = [41, 2, 39]</text>\n<text text-anchor=\"start\" x=\"361.5\" y=\"-230.8\" font-family=\"Helvetica,sans-Serif\" font-size=\"14.00\" fill=\"#000000\">class = class_0</text>\n</g>\n<!-- 0&#45;&gt;6 -->\n<g id=\"edge6\" class=\"edge\">\n<title>0&#45;&gt;6</title>\n<path fill=\"none\" stroke=\"#000000\" d=\"M364.0319,-341.8796C369.391,-333.1434 375.0979,-323.8404 380.6282,-314.8253\"/>\n<polygon fill=\"#000000\" stroke=\"#000000\" points=\"383.6135,-316.6522 385.8592,-306.2981 377.6467,-312.9919 383.6135,-316.6522\"/>\n<text text-anchor=\"middle\" x=\"391.6839\" y=\"-326.9101\" font-family=\"Helvetica,sans-Serif\" font-size=\"14.00\" fill=\"#000000\">False</text>\n</g>\n<!-- 2 -->\n<g id=\"node3\" class=\"node\">\n<title>2</title>\n<path fill=\"#3de684\" stroke=\"#000000\" d=\"M180,-187C180,-187 81,-187 81,-187 75,-187 69,-181 69,-175 69,-175 69,-116 69,-116 69,-110 75,-104 81,-104 81,-104 180,-104 180,-104 186,-104 192,-110 192,-116 192,-116 192,-175 192,-175 192,-181 186,-187 180,-187\"/>\n<text text-anchor=\"start\" x=\"96.5\" y=\"-171.8\" font-family=\"Helvetica,sans-Serif\" font-size=\"14.00\" fill=\"#000000\">ash ≤ 3.07</text>\n<text text-anchor=\"start\" x=\"92.5\" y=\"-156.8\" font-family=\"Helvetica,sans-Serif\" font-size=\"14.00\" fill=\"#000000\">gini = 0.042</text>\n<text text-anchor=\"start\" x=\"86.5\" y=\"-141.8\" font-family=\"Helvetica,sans-Serif\" font-size=\"14.00\" fill=\"#000000\">samples = 47</text>\n<text text-anchor=\"start\" x=\"77\" y=\"-126.8\" font-family=\"Helvetica,sans-Serif\" font-size=\"14.00\" fill=\"#000000\">value = [1, 46, 0]</text>\n<text text-anchor=\"start\" x=\"80.5\" y=\"-111.8\" font-family=\"Helvetica,sans-Serif\" font-size=\"14.00\" fill=\"#000000\">class = class_1</text>\n</g>\n<!-- 1&#45;&gt;2 -->\n<g id=\"edge2\" class=\"edge\">\n<title>1&#45;&gt;2</title>\n<path fill=\"none\" stroke=\"#000000\" d=\"M218.9338,-222.8796C208.3321,-213.6031 196.9998,-203.6874 186.1067,-194.1559\"/>\n<polygon fill=\"#000000\" stroke=\"#000000\" points=\"188.0998,-191.2491 178.2692,-187.2981 183.4902,-196.5172 188.0998,-191.2491\"/>\n</g>\n<!-- 5 -->\n<g id=\"node6\" class=\"node\">\n<title>5</title>\n<path fill=\"#e58139\" stroke=\"#000000\" d=\"M314.5,-179.5C314.5,-179.5 222.5,-179.5 222.5,-179.5 216.5,-179.5 210.5,-173.5 210.5,-167.5 210.5,-167.5 210.5,-123.5 210.5,-123.5 210.5,-117.5 216.5,-111.5 222.5,-111.5 222.5,-111.5 314.5,-111.5 314.5,-111.5 320.5,-111.5 326.5,-117.5 326.5,-123.5 326.5,-123.5 326.5,-167.5 326.5,-167.5 326.5,-173.5 320.5,-179.5 314.5,-179.5\"/>\n<text text-anchor=\"start\" x=\"239\" y=\"-164.3\" font-family=\"Helvetica,sans-Serif\" font-size=\"14.00\" fill=\"#000000\">gini = 0.0</text>\n<text text-anchor=\"start\" x=\"229\" y=\"-149.3\" font-family=\"Helvetica,sans-Serif\" font-size=\"14.00\" fill=\"#000000\">samples = 4</text>\n<text text-anchor=\"start\" x=\"219\" y=\"-134.3\" font-family=\"Helvetica,sans-Serif\" font-size=\"14.00\" fill=\"#000000\">value = [4, 0, 0]</text>\n<text text-anchor=\"start\" x=\"218.5\" y=\"-119.3\" font-family=\"Helvetica,sans-Serif\" font-size=\"14.00\" fill=\"#000000\">class = class_0</text>\n</g>\n<!-- 1&#45;&gt;5 -->\n<g id=\"edge5\" class=\"edge\">\n<title>1&#45;&gt;5</title>\n<path fill=\"none\" stroke=\"#000000\" d=\"M267.1995,-222.8796C267.3788,-212.2134 267.5722,-200.7021 267.7538,-189.9015\"/>\n<polygon fill=\"#000000\" stroke=\"#000000\" points=\"271.2546,-189.8724 267.9233,-179.8149 264.2556,-189.7547 271.2546,-189.8724\"/>\n</g>\n<!-- 3 -->\n<g id=\"node4\" class=\"node\">\n<title>3</title>\n<path fill=\"#39e581\" stroke=\"#000000\" d=\"M111,-68C111,-68 12,-68 12,-68 6,-68 0,-62 0,-56 0,-56 0,-12 0,-12 0,-6 6,0 12,0 12,0 111,0 111,0 117,0 123,-6 123,-12 123,-12 123,-56 123,-56 123,-62 117,-68 111,-68\"/>\n<text text-anchor=\"start\" x=\"32\" y=\"-52.8\" font-family=\"Helvetica,sans-Serif\" font-size=\"14.00\" fill=\"#000000\">gini = 0.0</text>\n<text text-anchor=\"start\" x=\"17.5\" y=\"-37.8\" font-family=\"Helvetica,sans-Serif\" font-size=\"14.00\" fill=\"#000000\">samples = 46</text>\n<text text-anchor=\"start\" x=\"8\" y=\"-22.8\" font-family=\"Helvetica,sans-Serif\" font-size=\"14.00\" fill=\"#000000\">value = [0, 46, 0]</text>\n<text text-anchor=\"start\" x=\"11.5\" y=\"-7.8\" font-family=\"Helvetica,sans-Serif\" font-size=\"14.00\" fill=\"#000000\">class = class_1</text>\n</g>\n<!-- 2&#45;&gt;3 -->\n<g id=\"edge3\" class=\"edge\">\n<title>2&#45;&gt;3</title>\n<path fill=\"none\" stroke=\"#000000\" d=\"M104.8069,-103.9815C99.3469,-95.1585 93.5716,-85.8258 88.0793,-76.9506\"/>\n<polygon fill=\"#000000\" stroke=\"#000000\" points=\"90.942,-74.9254 82.7035,-68.2637 84.9896,-78.609 90.942,-74.9254\"/>\n</g>\n<!-- 4 -->\n<g id=\"node5\" class=\"node\">\n<title>4</title>\n<path fill=\"#e58139\" stroke=\"#000000\" d=\"M245.5,-68C245.5,-68 153.5,-68 153.5,-68 147.5,-68 141.5,-62 141.5,-56 141.5,-56 141.5,-12 141.5,-12 141.5,-6 147.5,0 153.5,0 153.5,0 245.5,0 245.5,0 251.5,0 257.5,-6 257.5,-12 257.5,-12 257.5,-56 257.5,-56 257.5,-62 251.5,-68 245.5,-68\"/>\n<text text-anchor=\"start\" x=\"170\" y=\"-52.8\" font-family=\"Helvetica,sans-Serif\" font-size=\"14.00\" fill=\"#000000\">gini = 0.0</text>\n<text text-anchor=\"start\" x=\"160\" y=\"-37.8\" font-family=\"Helvetica,sans-Serif\" font-size=\"14.00\" fill=\"#000000\">samples = 1</text>\n<text text-anchor=\"start\" x=\"150\" y=\"-22.8\" font-family=\"Helvetica,sans-Serif\" font-size=\"14.00\" fill=\"#000000\">value = [1, 0, 0]</text>\n<text text-anchor=\"start\" x=\"149.5\" y=\"-7.8\" font-family=\"Helvetica,sans-Serif\" font-size=\"14.00\" fill=\"#000000\">class = class_0</text>\n</g>\n<!-- 2&#45;&gt;4 -->\n<g id=\"edge4\" class=\"edge\">\n<title>2&#45;&gt;4</title>\n<path fill=\"none\" stroke=\"#000000\" d=\"M156.1931,-103.9815C161.6531,-95.1585 167.4284,-85.8258 172.9207,-76.9506\"/>\n<polygon fill=\"#000000\" stroke=\"#000000\" points=\"176.0104,-78.609 178.2965,-68.2637 170.058,-74.9254 176.0104,-78.609\"/>\n</g>\n<!-- 7 -->\n<g id=\"node8\" class=\"node\">\n<title>7</title>\n<path fill=\"#8139e5\" stroke=\"#000000\" d=\"M459,-179.5C459,-179.5 360,-179.5 360,-179.5 354,-179.5 348,-173.5 348,-167.5 348,-167.5 348,-123.5 348,-123.5 348,-117.5 354,-111.5 360,-111.5 360,-111.5 459,-111.5 459,-111.5 465,-111.5 471,-117.5 471,-123.5 471,-123.5 471,-167.5 471,-167.5 471,-173.5 465,-179.5 459,-179.5\"/>\n<text text-anchor=\"start\" x=\"380\" y=\"-164.3\" font-family=\"Helvetica,sans-Serif\" font-size=\"14.00\" fill=\"#000000\">gini = 0.0</text>\n<text text-anchor=\"start\" x=\"365.5\" y=\"-149.3\" font-family=\"Helvetica,sans-Serif\" font-size=\"14.00\" fill=\"#000000\">samples = 39</text>\n<text text-anchor=\"start\" x=\"356\" y=\"-134.3\" font-family=\"Helvetica,sans-Serif\" font-size=\"14.00\" fill=\"#000000\">value = [0, 0, 39]</text>\n<text text-anchor=\"start\" x=\"359.5\" y=\"-119.3\" font-family=\"Helvetica,sans-Serif\" font-size=\"14.00\" fill=\"#000000\">class = class_2</text>\n</g>\n<!-- 6&#45;&gt;7 -->\n<g id=\"edge7\" class=\"edge\">\n<title>6&#45;&gt;7</title>\n<path fill=\"none\" stroke=\"#000000\" d=\"M410.8005,-222.8796C410.6212,-212.2134 410.4278,-200.7021 410.2462,-189.9015\"/>\n<polygon fill=\"#000000\" stroke=\"#000000\" points=\"413.7444,-189.7547 410.0767,-179.8149 406.7454,-189.8724 413.7444,-189.7547\"/>\n</g>\n<!-- 8 -->\n<g id=\"node9\" class=\"node\">\n<title>8</title>\n<path fill=\"#e68743\" stroke=\"#000000\" d=\"M606,-187C606,-187 501,-187 501,-187 495,-187 489,-181 489,-175 489,-175 489,-116 489,-116 489,-110 495,-104 501,-104 501,-104 606,-104 606,-104 612,-104 618,-110 618,-116 618,-116 618,-175 618,-175 618,-181 612,-187 606,-187\"/>\n<text text-anchor=\"start\" x=\"497\" y=\"-171.8\" font-family=\"Helvetica,sans-Serif\" font-size=\"14.00\" fill=\"#000000\">malic_acid ≤ 1.28</text>\n<text text-anchor=\"start\" x=\"515.5\" y=\"-156.8\" font-family=\"Helvetica,sans-Serif\" font-size=\"14.00\" fill=\"#000000\">gini = 0.089</text>\n<text text-anchor=\"start\" x=\"509.5\" y=\"-141.8\" font-family=\"Helvetica,sans-Serif\" font-size=\"14.00\" fill=\"#000000\">samples = 43</text>\n<text text-anchor=\"start\" x=\"500\" y=\"-126.8\" font-family=\"Helvetica,sans-Serif\" font-size=\"14.00\" fill=\"#000000\">value = [41, 2, 0]</text>\n<text text-anchor=\"start\" x=\"503.5\" y=\"-111.8\" font-family=\"Helvetica,sans-Serif\" font-size=\"14.00\" fill=\"#000000\">class = class_0</text>\n</g>\n<!-- 6&#45;&gt;8 -->\n<g id=\"edge8\" class=\"edge\">\n<title>6&#45;&gt;8</title>\n<path fill=\"none\" stroke=\"#000000\" d=\"M461.1647,-222.8796C472.3416,-213.513 484.2962,-203.4948 495.7712,-193.8784\"/>\n<polygon fill=\"#000000\" stroke=\"#000000\" points=\"498.2069,-196.4037 503.6233,-187.2981 493.7107,-191.0386 498.2069,-196.4037\"/>\n</g>\n<!-- 9 -->\n<g id=\"node10\" class=\"node\">\n<title>9</title>\n<path fill=\"#39e581\" stroke=\"#000000\" d=\"M530.5,-68C530.5,-68 438.5,-68 438.5,-68 432.5,-68 426.5,-62 426.5,-56 426.5,-56 426.5,-12 426.5,-12 426.5,-6 432.5,0 438.5,0 438.5,0 530.5,0 530.5,0 536.5,0 542.5,-6 542.5,-12 542.5,-12 542.5,-56 542.5,-56 542.5,-62 536.5,-68 530.5,-68\"/>\n<text text-anchor=\"start\" x=\"455\" y=\"-52.8\" font-family=\"Helvetica,sans-Serif\" font-size=\"14.00\" fill=\"#000000\">gini = 0.0</text>\n<text text-anchor=\"start\" x=\"445\" y=\"-37.8\" font-family=\"Helvetica,sans-Serif\" font-size=\"14.00\" fill=\"#000000\">samples = 2</text>\n<text text-anchor=\"start\" x=\"435\" y=\"-22.8\" font-family=\"Helvetica,sans-Serif\" font-size=\"14.00\" fill=\"#000000\">value = [0, 2, 0]</text>\n<text text-anchor=\"start\" x=\"434.5\" y=\"-7.8\" font-family=\"Helvetica,sans-Serif\" font-size=\"14.00\" fill=\"#000000\">class = class_1</text>\n</g>\n<!-- 8&#45;&gt;9 -->\n<g id=\"edge9\" class=\"edge\">\n<title>8&#45;&gt;9</title>\n<path fill=\"none\" stroke=\"#000000\" d=\"M527.8069,-103.9815C522.3469,-95.1585 516.5716,-85.8258 511.0793,-76.9506\"/>\n<polygon fill=\"#000000\" stroke=\"#000000\" points=\"513.942,-74.9254 505.7035,-68.2637 507.9896,-78.609 513.942,-74.9254\"/>\n</g>\n<!-- 10 -->\n<g id=\"node11\" class=\"node\">\n<title>10</title>\n<path fill=\"#e58139\" stroke=\"#000000\" d=\"M672,-68C672,-68 573,-68 573,-68 567,-68 561,-62 561,-56 561,-56 561,-12 561,-12 561,-6 567,0 573,0 573,0 672,0 672,0 678,0 684,-6 684,-12 684,-12 684,-56 684,-56 684,-62 678,-68 672,-68\"/>\n<text text-anchor=\"start\" x=\"593\" y=\"-52.8\" font-family=\"Helvetica,sans-Serif\" font-size=\"14.00\" fill=\"#000000\">gini = 0.0</text>\n<text text-anchor=\"start\" x=\"578.5\" y=\"-37.8\" font-family=\"Helvetica,sans-Serif\" font-size=\"14.00\" fill=\"#000000\">samples = 41</text>\n<text text-anchor=\"start\" x=\"569\" y=\"-22.8\" font-family=\"Helvetica,sans-Serif\" font-size=\"14.00\" fill=\"#000000\">value = [41, 0, 0]</text>\n<text text-anchor=\"start\" x=\"572.5\" y=\"-7.8\" font-family=\"Helvetica,sans-Serif\" font-size=\"14.00\" fill=\"#000000\">class = class_0</text>\n</g>\n<!-- 8&#45;&gt;10 -->\n<g id=\"edge10\" class=\"edge\">\n<title>8&#45;&gt;10</title>\n<path fill=\"none\" stroke=\"#000000\" d=\"M579.1931,-103.9815C584.6531,-95.1585 590.4284,-85.8258 595.9207,-76.9506\"/>\n<polygon fill=\"#000000\" stroke=\"#000000\" points=\"599.0104,-78.609 601.2965,-68.2637 593.058,-74.9254 599.0104,-78.609\"/>\n</g>\n</g>\n</svg>\n"
          },
          "metadata": {
            "tags": []
          },
          "execution_count": 6
        },
        {
          "output_type": "display_data",
          "data": {
            "image/png": "[encoded data removed]",
            "text/plain": [
              "<Figure size 432x288 with 1 Axes>"
            ]
          },
          "metadata": {
            "tags": [],
            "needs_background": "light"
          }
        }
      ]
    },
    {
      "cell_type": "code",
      "metadata": {
        "colab": {
          "base_uri": "https://localhost:8080/"
        },
        "id": "R8Txmr7ZgR-4",
        "outputId": "ea283377-4c37-49f2-d86b-42e1f536835f"
      },
      "source": [
        "r = export_text(dt_gini, data.feature_names)\n",
        "print(r)"
      ],
      "execution_count": null,
      "outputs": [
        {
          "output_type": "stream",
          "text": [
            "|--- color_intensity <= 3.95\n",
            "|   |--- proline <= 987.50\n",
            "|   |   |--- ash <= 3.07\n",
            "|   |   |   |--- class: 1\n",
            "|   |   |--- ash >  3.07\n",
            "|   |   |   |--- class: 0\n",
            "|   |--- proline >  987.50\n",
            "|   |   |--- class: 0\n",
            "|--- color_intensity >  3.95\n",
            "|   |--- flavanoids <= 1.88\n",
            "|   |   |--- class: 2\n",
            "|   |--- flavanoids >  1.88\n",
            "|   |   |--- malic_acid <= 1.28\n",
            "|   |   |   |--- class: 1\n",
            "|   |   |--- malic_acid >  1.28\n",
            "|   |   |   |--- class: 0\n",
            "\n"
          ],
          "name": "stdout"
        }
      ]
    },
    {
      "cell_type": "code",
      "metadata": {
        "colab": {
          "base_uri": "https://localhost:8080/",
          "height": 483
        },
        "id": "BMqc1AXovzSf",
        "outputId": "1813bd30-b031-445c-9625-15dcc7326f61"
      },
      "source": [
        "feat_imp_gini = pd.DataFrame(dt_gini.feature_importances_)\n",
        "feat_imp_gini.insert(1, \"Atributo\", data.feature_names, True)\n",
        "feat_imp_gini = feat_imp_gini.rename(columns={0:'Importancia_Gini'})\n",
        "feat_imp_gini = feat_imp_gini.set_index('Atributo')\n",
        "feat_imp_gini.sort_values(by='Importancia_Gini', ascending=False)"
      ],
      "execution_count": null,
      "outputs": [
        {
          "output_type": "execute_result",
          "data": {
            "text/html": [
              "<div>\n",
              "<style scoped>\n",
              "    .dataframe tbody tr th:only-of-type {\n",
              "        vertical-align: middle;\n",
              "    }\n",
              "\n",
              "    .dataframe tbody tr th {\n",
              "        vertical-align: top;\n",
              "    }\n",
              "\n",
              "    .dataframe thead th {\n",
              "        text-align: right;\n",
              "    }\n",
              "</style>\n",
              "<table border=\"1\" class=\"dataframe\">\n",
              "  <thead>\n",
              "    <tr style=\"text-align: right;\">\n",
              "      <th></th>\n",
              "      <th>Importancia_Gini</th>\n",
              "    </tr>\n",
              "    <tr>\n",
              "      <th>Atributo</th>\n",
              "      <th></th>\n",
              "    </tr>\n",
              "  </thead>\n",
              "  <tbody>\n",
              "    <tr>\n",
              "      <th>flavanoids</th>\n",
              "      <td>0.442524</td>\n",
              "    </tr>\n",
              "    <tr>\n",
              "      <th>color_intensity</th>\n",
              "      <td>0.412187</td>\n",
              "    </tr>\n",
              "    <tr>\n",
              "      <th>proline</th>\n",
              "      <td>0.079951</td>\n",
              "    </tr>\n",
              "    <tr>\n",
              "      <th>malic_acid</th>\n",
              "      <td>0.043178</td>\n",
              "    </tr>\n",
              "    <tr>\n",
              "      <th>ash</th>\n",
              "      <td>0.022160</td>\n",
              "    </tr>\n",
              "    <tr>\n",
              "      <th>alcohol</th>\n",
              "      <td>0.000000</td>\n",
              "    </tr>\n",
              "    <tr>\n",
              "      <th>alcalinity_of_ash</th>\n",
              "      <td>0.000000</td>\n",
              "    </tr>\n",
              "    <tr>\n",
              "      <th>magnesium</th>\n",
              "      <td>0.000000</td>\n",
              "    </tr>\n",
              "    <tr>\n",
              "      <th>total_phenols</th>\n",
              "      <td>0.000000</td>\n",
              "    </tr>\n",
              "    <tr>\n",
              "      <th>nonflavanoid_phenols</th>\n",
              "      <td>0.000000</td>\n",
              "    </tr>\n",
              "    <tr>\n",
              "      <th>proanthocyanins</th>\n",
              "      <td>0.000000</td>\n",
              "    </tr>\n",
              "    <tr>\n",
              "      <th>hue</th>\n",
              "      <td>0.000000</td>\n",
              "    </tr>\n",
              "    <tr>\n",
              "      <th>od280/od315_of_diluted_wines</th>\n",
              "      <td>0.000000</td>\n",
              "    </tr>\n",
              "  </tbody>\n",
              "</table>\n",
              "</div>"
            ],
            "text/plain": [
              "                              Importancia_Gini\n",
              "Atributo                                      \n",
              "flavanoids                            0.442524\n",
              "color_intensity                       0.412187\n",
              "proline                               0.079951\n",
              "malic_acid                            0.043178\n",
              "ash                                   0.022160\n",
              "alcohol                               0.000000\n",
              "alcalinity_of_ash                     0.000000\n",
              "magnesium                             0.000000\n",
              "total_phenols                         0.000000\n",
              "nonflavanoid_phenols                  0.000000\n",
              "proanthocyanins                       0.000000\n",
              "hue                                   0.000000\n",
              "od280/od315_of_diluted_wines          0.000000"
            ]
          },
          "metadata": {
            "tags": []
          },
          "execution_count": 8
        }
      ]
    },
    {
      "cell_type": "markdown",
      "metadata": {
        "id": "HobYi6MTgfso"
      },
      "source": [
        "### Entropia"
      ]
    },
    {
      "cell_type": "code",
      "metadata": {
        "colab": {
          "base_uri": "https://localhost:8080/",
          "height": 988
        },
        "id": "W257fB_1YO9t",
        "outputId": "2e4d4a6a-7a0f-41d5-a885-4dca00ba82cd"
      },
      "source": [
        "dt_ent = DecisionTreeClassifier(criterion='entropy', random_state=10)\n",
        "dt_ent.fit(X_train, y_train)\n",
        "plot_tree(dt_ent) \n",
        "plot_tree_complete(dt_ent, data)"
      ],
      "execution_count": null,
      "outputs": [
        {
          "output_type": "execute_result",
          "data": {
            "text/plain": [
              "<graphviz.files.Source at 0x7f2dbf8b33d0>"
            ],
            "image/svg+xml": "<?xml version=\"1.0\" encoding=\"UTF-8\" standalone=\"no\"?>\n<!DOCTYPE svg PUBLIC \"-//W3C//DTD SVG 1.1//EN\"\n \"http://www.w3.org/Graphics/SVG/1.1/DTD/svg11.dtd\">\n<!-- Generated by graphviz version 2.40.1 (20161225.0304)\n -->\n<!-- Title: Tree Pages: 1 -->\n<svg width=\"746pt\" height=\"552pt\"\n viewBox=\"0.00 0.00 745.50 552.00\" xmlns=\"http://www.w3.org/2000/svg\" xmlns:xlink=\"http://www.w3.org/1999/xlink\">\n<g id=\"graph0\" class=\"graph\" transform=\"scale(1 1) rotate(0) translate(4 548)\">\n<title>Tree</title>\n<polygon fill=\"#ffffff\" stroke=\"transparent\" points=\"-4,4 -4,-548 741.5,-548 741.5,4 -4,4\"/>\n<!-- 0 -->\n<g id=\"node1\" class=\"node\">\n<title>0</title>\n<path fill=\"#fafefc\" stroke=\"#000000\" d=\"M338,-544C338,-544 222,-544 222,-544 216,-544 210,-538 210,-532 210,-532 210,-473 210,-473 210,-467 216,-461 222,-461 222,-461 338,-461 338,-461 344,-461 350,-467 350,-473 350,-473 350,-532 350,-532 350,-538 344,-544 338,-544\"/>\n<text text-anchor=\"start\" x=\"221\" y=\"-528.8\" font-family=\"Helvetica,sans-Serif\" font-size=\"14.00\" fill=\"#000000\">flavanoids ≤ 1.575</text>\n<text text-anchor=\"start\" x=\"229\" y=\"-513.8\" font-family=\"Helvetica,sans-Serif\" font-size=\"14.00\" fill=\"#000000\">entropy = 1.579</text>\n<text text-anchor=\"start\" x=\"232\" y=\"-498.8\" font-family=\"Helvetica,sans-Serif\" font-size=\"14.00\" fill=\"#000000\">samples = 133</text>\n<text text-anchor=\"start\" x=\"218\" y=\"-483.8\" font-family=\"Helvetica,sans-Serif\" font-size=\"14.00\" fill=\"#000000\">value = [46, 48, 39]</text>\n<text text-anchor=\"start\" x=\"230\" y=\"-468.8\" font-family=\"Helvetica,sans-Serif\" font-size=\"14.00\" fill=\"#000000\">class = class_1</text>\n</g>\n<!-- 1 -->\n<g id=\"node2\" class=\"node\">\n<title>1</title>\n<path fill=\"#985dea\" stroke=\"#000000\" d=\"M256.5,-425C256.5,-425 135.5,-425 135.5,-425 129.5,-425 123.5,-419 123.5,-413 123.5,-413 123.5,-354 123.5,-354 123.5,-348 129.5,-342 135.5,-342 135.5,-342 256.5,-342 256.5,-342 262.5,-342 268.5,-348 268.5,-354 268.5,-354 268.5,-413 268.5,-413 268.5,-419 262.5,-425 256.5,-425\"/>\n<text text-anchor=\"start\" x=\"131.5\" y=\"-409.8\" font-family=\"Helvetica,sans-Serif\" font-size=\"14.00\" fill=\"#000000\">color_intensity ≤ 3.9</text>\n<text text-anchor=\"start\" x=\"145\" y=\"-394.8\" font-family=\"Helvetica,sans-Serif\" font-size=\"14.00\" fill=\"#000000\">entropy = 0.615</text>\n<text text-anchor=\"start\" x=\"152\" y=\"-379.8\" font-family=\"Helvetica,sans-Serif\" font-size=\"14.00\" fill=\"#000000\">samples = 46</text>\n<text text-anchor=\"start\" x=\"142.5\" y=\"-364.8\" font-family=\"Helvetica,sans-Serif\" font-size=\"14.00\" fill=\"#000000\">value = [0, 7, 39]</text>\n<text text-anchor=\"start\" x=\"146\" y=\"-349.8\" font-family=\"Helvetica,sans-Serif\" font-size=\"14.00\" fill=\"#000000\">class = class_2</text>\n</g>\n<!-- 0&#45;&gt;1 -->\n<g id=\"edge1\" class=\"edge\">\n<title>0&#45;&gt;1</title>\n<path fill=\"none\" stroke=\"#000000\" d=\"M250.6209,-460.8796C244.3906,-452.0534 237.7519,-442.6485 231.327,-433.5466\"/>\n<polygon fill=\"#000000\" stroke=\"#000000\" points=\"234.1308,-431.4494 225.5045,-425.2981 228.412,-435.4862 234.1308,-431.4494\"/>\n<text text-anchor=\"middle\" x=\"221.2568\" y=\"-446.2346\" font-family=\"Helvetica,sans-Serif\" font-size=\"14.00\" fill=\"#000000\">True</text>\n</g>\n<!-- 4 -->\n<g id=\"node5\" class=\"node\">\n<title>4</title>\n<path fill=\"#fcf1e9\" stroke=\"#000000\" d=\"M417.5,-425C417.5,-425 310.5,-425 310.5,-425 304.5,-425 298.5,-419 298.5,-413 298.5,-413 298.5,-354 298.5,-354 298.5,-348 304.5,-342 310.5,-342 310.5,-342 417.5,-342 417.5,-342 423.5,-342 429.5,-348 429.5,-354 429.5,-354 429.5,-413 429.5,-413 429.5,-419 423.5,-425 417.5,-425\"/>\n<text text-anchor=\"start\" x=\"316\" y=\"-409.8\" font-family=\"Helvetica,sans-Serif\" font-size=\"14.00\" fill=\"#000000\">proline ≤ 724.5</text>\n<text text-anchor=\"start\" x=\"313\" y=\"-394.8\" font-family=\"Helvetica,sans-Serif\" font-size=\"14.00\" fill=\"#000000\">entropy = 0.998</text>\n<text text-anchor=\"start\" x=\"320\" y=\"-379.8\" font-family=\"Helvetica,sans-Serif\" font-size=\"14.00\" fill=\"#000000\">samples = 87</text>\n<text text-anchor=\"start\" x=\"306.5\" y=\"-364.8\" font-family=\"Helvetica,sans-Serif\" font-size=\"14.00\" fill=\"#000000\">value = [46, 41, 0]</text>\n<text text-anchor=\"start\" x=\"314\" y=\"-349.8\" font-family=\"Helvetica,sans-Serif\" font-size=\"14.00\" fill=\"#000000\">class = class_0</text>\n</g>\n<!-- 0&#45;&gt;4 -->\n<g id=\"edge4\" class=\"edge\">\n<title>0&#45;&gt;4</title>\n<path fill=\"none\" stroke=\"#000000\" d=\"M309.3791,-460.8796C315.6094,-452.0534 322.2481,-442.6485 328.673,-433.5466\"/>\n<polygon fill=\"#000000\" stroke=\"#000000\" points=\"331.588,-435.4862 334.4955,-425.2981 325.8692,-431.4494 331.588,-435.4862\"/>\n<text text-anchor=\"middle\" x=\"338.7432\" y=\"-446.2346\" font-family=\"Helvetica,sans-Serif\" font-size=\"14.00\" fill=\"#000000\">False</text>\n</g>\n<!-- 2 -->\n<g id=\"node3\" class=\"node\">\n<title>2</title>\n<path fill=\"#39e581\" stroke=\"#000000\" d=\"M104,-298.5C104,-298.5 12,-298.5 12,-298.5 6,-298.5 0,-292.5 0,-286.5 0,-286.5 0,-242.5 0,-242.5 0,-236.5 6,-230.5 12,-230.5 12,-230.5 104,-230.5 104,-230.5 110,-230.5 116,-236.5 116,-242.5 116,-242.5 116,-286.5 116,-286.5 116,-292.5 110,-298.5 104,-298.5\"/>\n<text text-anchor=\"start\" x=\"15.5\" y=\"-283.3\" font-family=\"Helvetica,sans-Serif\" font-size=\"14.00\" fill=\"#000000\">entropy = 0.0</text>\n<text text-anchor=\"start\" x=\"18.5\" y=\"-268.3\" font-family=\"Helvetica,sans-Serif\" font-size=\"14.00\" fill=\"#000000\">samples = 7</text>\n<text text-anchor=\"start\" x=\"8.5\" y=\"-253.3\" font-family=\"Helvetica,sans-Serif\" font-size=\"14.00\" fill=\"#000000\">value = [0, 7, 0]</text>\n<text text-anchor=\"start\" x=\"8\" y=\"-238.3\" font-family=\"Helvetica,sans-Serif\" font-size=\"14.00\" fill=\"#000000\">class = class_1</text>\n</g>\n<!-- 1&#45;&gt;2 -->\n<g id=\"edge2\" class=\"edge\">\n<title>1&#45;&gt;2</title>\n<path fill=\"none\" stroke=\"#000000\" d=\"M147.7343,-341.8796C134.0899,-330.1138 119.2531,-317.3197 105.6454,-305.5855\"/>\n<polygon fill=\"#000000\" stroke=\"#000000\" points=\"107.6527,-302.6948 97.7938,-298.8149 103.0813,-307.9961 107.6527,-302.6948\"/>\n</g>\n<!-- 3 -->\n<g id=\"node4\" class=\"node\">\n<title>3</title>\n<path fill=\"#8139e5\" stroke=\"#000000\" d=\"M245.5,-298.5C245.5,-298.5 146.5,-298.5 146.5,-298.5 140.5,-298.5 134.5,-292.5 134.5,-286.5 134.5,-286.5 134.5,-242.5 134.5,-242.5 134.5,-236.5 140.5,-230.5 146.5,-230.5 146.5,-230.5 245.5,-230.5 245.5,-230.5 251.5,-230.5 257.5,-236.5 257.5,-242.5 257.5,-242.5 257.5,-286.5 257.5,-286.5 257.5,-292.5 251.5,-298.5 245.5,-298.5\"/>\n<text text-anchor=\"start\" x=\"153.5\" y=\"-283.3\" font-family=\"Helvetica,sans-Serif\" font-size=\"14.00\" fill=\"#000000\">entropy = 0.0</text>\n<text text-anchor=\"start\" x=\"152\" y=\"-268.3\" font-family=\"Helvetica,sans-Serif\" font-size=\"14.00\" fill=\"#000000\">samples = 39</text>\n<text text-anchor=\"start\" x=\"142.5\" y=\"-253.3\" font-family=\"Helvetica,sans-Serif\" font-size=\"14.00\" fill=\"#000000\">value = [0, 0, 39]</text>\n<text text-anchor=\"start\" x=\"146\" y=\"-238.3\" font-family=\"Helvetica,sans-Serif\" font-size=\"14.00\" fill=\"#000000\">class = class_2</text>\n</g>\n<!-- 1&#45;&gt;3 -->\n<g id=\"edge3\" class=\"edge\">\n<title>1&#45;&gt;3</title>\n<path fill=\"none\" stroke=\"#000000\" d=\"M196,-341.8796C196,-331.2134 196,-319.7021 196,-308.9015\"/>\n<polygon fill=\"#000000\" stroke=\"#000000\" points=\"199.5001,-308.8149 196,-298.8149 192.5001,-308.815 199.5001,-308.8149\"/>\n</g>\n<!-- 5 -->\n<g id=\"node6\" class=\"node\">\n<title>5</title>\n<path fill=\"#3ee684\" stroke=\"#000000\" d=\"M440,-306C440,-306 288,-306 288,-306 282,-306 276,-300 276,-294 276,-294 276,-235 276,-235 276,-229 282,-223 288,-223 288,-223 440,-223 440,-223 446,-223 452,-229 452,-235 452,-235 452,-294 452,-294 452,-300 446,-306 440,-306\"/>\n<text text-anchor=\"start\" x=\"284\" y=\"-290.8\" font-family=\"Helvetica,sans-Serif\" font-size=\"14.00\" fill=\"#000000\">alcalinity_of_ash ≤ 17.75</text>\n<text text-anchor=\"start\" x=\"313\" y=\"-275.8\" font-family=\"Helvetica,sans-Serif\" font-size=\"14.00\" fill=\"#000000\">entropy = 0.169</text>\n<text text-anchor=\"start\" x=\"320\" y=\"-260.8\" font-family=\"Helvetica,sans-Serif\" font-size=\"14.00\" fill=\"#000000\">samples = 40</text>\n<text text-anchor=\"start\" x=\"310.5\" y=\"-245.8\" font-family=\"Helvetica,sans-Serif\" font-size=\"14.00\" fill=\"#000000\">value = [1, 39, 0]</text>\n<text text-anchor=\"start\" x=\"314\" y=\"-230.8\" font-family=\"Helvetica,sans-Serif\" font-size=\"14.00\" fill=\"#000000\">class = class_1</text>\n</g>\n<!-- 4&#45;&gt;5 -->\n<g id=\"edge5\" class=\"edge\">\n<title>4&#45;&gt;5</title>\n<path fill=\"none\" stroke=\"#000000\" d=\"M364,-341.8796C364,-333.6838 364,-324.9891 364,-316.5013\"/>\n<polygon fill=\"#000000\" stroke=\"#000000\" points=\"367.5001,-316.298 364,-306.2981 360.5001,-316.2981 367.5001,-316.298\"/>\n</g>\n<!-- 10 -->\n<g id=\"node11\" class=\"node\">\n<title>10</title>\n<path fill=\"#e68742\" stroke=\"#000000\" d=\"M619.5,-306C619.5,-306 482.5,-306 482.5,-306 476.5,-306 470.5,-300 470.5,-294 470.5,-294 470.5,-235 470.5,-235 470.5,-229 476.5,-223 482.5,-223 482.5,-223 619.5,-223 619.5,-223 625.5,-223 631.5,-229 631.5,-235 631.5,-235 631.5,-294 631.5,-294 631.5,-300 625.5,-306 619.5,-306\"/>\n<text text-anchor=\"start\" x=\"478.5\" y=\"-290.8\" font-family=\"Helvetica,sans-Serif\" font-size=\"14.00\" fill=\"#000000\">color_intensity ≤ 3.465</text>\n<text text-anchor=\"start\" x=\"500\" y=\"-275.8\" font-family=\"Helvetica,sans-Serif\" font-size=\"14.00\" fill=\"#000000\">entropy = 0.254</text>\n<text text-anchor=\"start\" x=\"507\" y=\"-260.8\" font-family=\"Helvetica,sans-Serif\" font-size=\"14.00\" fill=\"#000000\">samples = 47</text>\n<text text-anchor=\"start\" x=\"497.5\" y=\"-245.8\" font-family=\"Helvetica,sans-Serif\" font-size=\"14.00\" fill=\"#000000\">value = [45, 2, 0]</text>\n<text text-anchor=\"start\" x=\"501\" y=\"-230.8\" font-family=\"Helvetica,sans-Serif\" font-size=\"14.00\" fill=\"#000000\">class = class_0</text>\n</g>\n<!-- 4&#45;&gt;10 -->\n<g id=\"edge10\" class=\"edge\">\n<title>4&#45;&gt;10</title>\n<path fill=\"none\" stroke=\"#000000\" d=\"M429.4035,-341.8796C444.7774,-332.0962 461.2685,-321.6019 476.9902,-311.5971\"/>\n<polygon fill=\"#000000\" stroke=\"#000000\" points=\"479.0759,-314.4185 485.6334,-306.0969 475.3177,-308.5129 479.0759,-314.4185\"/>\n</g>\n<!-- 6 -->\n<g id=\"node7\" class=\"node\">\n<title>6</title>\n<path fill=\"#ffffff\" stroke=\"#000000\" d=\"M284.5,-187C284.5,-187 179.5,-187 179.5,-187 173.5,-187 167.5,-181 167.5,-175 167.5,-175 167.5,-116 167.5,-116 167.5,-110 173.5,-104 179.5,-104 179.5,-104 284.5,-104 284.5,-104 290.5,-104 296.5,-110 296.5,-116 296.5,-116 296.5,-175 296.5,-175 296.5,-181 290.5,-187 284.5,-187\"/>\n<text text-anchor=\"start\" x=\"175.5\" y=\"-171.8\" font-family=\"Helvetica,sans-Serif\" font-size=\"14.00\" fill=\"#000000\">malic_acid ≤ 3.03</text>\n<text text-anchor=\"start\" x=\"189.5\" y=\"-156.8\" font-family=\"Helvetica,sans-Serif\" font-size=\"14.00\" fill=\"#000000\">entropy = 1.0</text>\n<text text-anchor=\"start\" x=\"192.5\" y=\"-141.8\" font-family=\"Helvetica,sans-Serif\" font-size=\"14.00\" fill=\"#000000\">samples = 2</text>\n<text text-anchor=\"start\" x=\"182.5\" y=\"-126.8\" font-family=\"Helvetica,sans-Serif\" font-size=\"14.00\" fill=\"#000000\">value = [1, 1, 0]</text>\n<text text-anchor=\"start\" x=\"182\" y=\"-111.8\" font-family=\"Helvetica,sans-Serif\" font-size=\"14.00\" fill=\"#000000\">class = class_0</text>\n</g>\n<!-- 5&#45;&gt;6 -->\n<g id=\"edge6\" class=\"edge\">\n<title>5&#45;&gt;6</title>\n<path fill=\"none\" stroke=\"#000000\" d=\"M317.8328,-222.8796C307.5429,-213.6031 296.544,-203.6874 285.9713,-194.1559\"/>\n<polygon fill=\"#000000\" stroke=\"#000000\" points=\"288.1352,-191.3944 278.3642,-187.2981 283.4481,-196.5935 288.1352,-191.3944\"/>\n</g>\n<!-- 9 -->\n<g id=\"node10\" class=\"node\">\n<title>9</title>\n<path fill=\"#39e581\" stroke=\"#000000\" d=\"M425.5,-179.5C425.5,-179.5 326.5,-179.5 326.5,-179.5 320.5,-179.5 314.5,-173.5 314.5,-167.5 314.5,-167.5 314.5,-123.5 314.5,-123.5 314.5,-117.5 320.5,-111.5 326.5,-111.5 326.5,-111.5 425.5,-111.5 425.5,-111.5 431.5,-111.5 437.5,-117.5 437.5,-123.5 437.5,-123.5 437.5,-167.5 437.5,-167.5 437.5,-173.5 431.5,-179.5 425.5,-179.5\"/>\n<text text-anchor=\"start\" x=\"333.5\" y=\"-164.3\" font-family=\"Helvetica,sans-Serif\" font-size=\"14.00\" fill=\"#000000\">entropy = 0.0</text>\n<text text-anchor=\"start\" x=\"332\" y=\"-149.3\" font-family=\"Helvetica,sans-Serif\" font-size=\"14.00\" fill=\"#000000\">samples = 38</text>\n<text text-anchor=\"start\" x=\"322.5\" y=\"-134.3\" font-family=\"Helvetica,sans-Serif\" font-size=\"14.00\" fill=\"#000000\">value = [0, 38, 0]</text>\n<text text-anchor=\"start\" x=\"326\" y=\"-119.3\" font-family=\"Helvetica,sans-Serif\" font-size=\"14.00\" fill=\"#000000\">class = class_1</text>\n</g>\n<!-- 5&#45;&gt;9 -->\n<g id=\"edge9\" class=\"edge\">\n<title>5&#45;&gt;9</title>\n<path fill=\"none\" stroke=\"#000000\" d=\"M368.197,-222.8796C369.2726,-212.2134 370.4334,-200.7021 371.5225,-189.9015\"/>\n<polygon fill=\"#000000\" stroke=\"#000000\" points=\"375.0186,-190.1157 372.5397,-179.8149 368.0539,-189.4133 375.0186,-190.1157\"/>\n</g>\n<!-- 7 -->\n<g id=\"node8\" class=\"node\">\n<title>7</title>\n<path fill=\"#39e581\" stroke=\"#000000\" d=\"M211,-68C211,-68 119,-68 119,-68 113,-68 107,-62 107,-56 107,-56 107,-12 107,-12 107,-6 113,0 119,0 119,0 211,0 211,0 217,0 223,-6 223,-12 223,-12 223,-56 223,-56 223,-62 217,-68 211,-68\"/>\n<text text-anchor=\"start\" x=\"122.5\" y=\"-52.8\" font-family=\"Helvetica,sans-Serif\" font-size=\"14.00\" fill=\"#000000\">entropy = 0.0</text>\n<text text-anchor=\"start\" x=\"125.5\" y=\"-37.8\" font-family=\"Helvetica,sans-Serif\" font-size=\"14.00\" fill=\"#000000\">samples = 1</text>\n<text text-anchor=\"start\" x=\"115.5\" y=\"-22.8\" font-family=\"Helvetica,sans-Serif\" font-size=\"14.00\" fill=\"#000000\">value = [0, 1, 0]</text>\n<text text-anchor=\"start\" x=\"115\" y=\"-7.8\" font-family=\"Helvetica,sans-Serif\" font-size=\"14.00\" fill=\"#000000\">class = class_1</text>\n</g>\n<!-- 6&#45;&gt;7 -->\n<g id=\"edge7\" class=\"edge\">\n<title>6&#45;&gt;7</title>\n<path fill=\"none\" stroke=\"#000000\" d=\"M207.0517,-103.9815C201.7499,-95.1585 196.1419,-85.8258 190.8089,-76.9506\"/>\n<polygon fill=\"#000000\" stroke=\"#000000\" points=\"193.7396,-75.0325 185.5889,-68.2637 187.7395,-78.638 193.7396,-75.0325\"/>\n</g>\n<!-- 8 -->\n<g id=\"node9\" class=\"node\">\n<title>8</title>\n<path fill=\"#e58139\" stroke=\"#000000\" d=\"M345,-68C345,-68 253,-68 253,-68 247,-68 241,-62 241,-56 241,-56 241,-12 241,-12 241,-6 247,0 253,0 253,0 345,0 345,0 351,0 357,-6 357,-12 357,-12 357,-56 357,-56 357,-62 351,-68 345,-68\"/>\n<text text-anchor=\"start\" x=\"256.5\" y=\"-52.8\" font-family=\"Helvetica,sans-Serif\" font-size=\"14.00\" fill=\"#000000\">entropy = 0.0</text>\n<text text-anchor=\"start\" x=\"259.5\" y=\"-37.8\" font-family=\"Helvetica,sans-Serif\" font-size=\"14.00\" fill=\"#000000\">samples = 1</text>\n<text text-anchor=\"start\" x=\"249.5\" y=\"-22.8\" font-family=\"Helvetica,sans-Serif\" font-size=\"14.00\" fill=\"#000000\">value = [1, 0, 0]</text>\n<text text-anchor=\"start\" x=\"249\" y=\"-7.8\" font-family=\"Helvetica,sans-Serif\" font-size=\"14.00\" fill=\"#000000\">class = class_0</text>\n</g>\n<!-- 6&#45;&gt;8 -->\n<g id=\"edge8\" class=\"edge\">\n<title>6&#45;&gt;8</title>\n<path fill=\"none\" stroke=\"#000000\" d=\"M256.9483,-103.9815C262.2501,-95.1585 267.8581,-85.8258 273.1911,-76.9506\"/>\n<polygon fill=\"#000000\" stroke=\"#000000\" points=\"276.2605,-78.638 278.4111,-68.2637 270.2604,-75.0325 276.2605,-78.638\"/>\n</g>\n<!-- 11 -->\n<g id=\"node12\" class=\"node\">\n<title>11</title>\n<path fill=\"#39e581\" stroke=\"#000000\" d=\"M584,-179.5C584,-179.5 492,-179.5 492,-179.5 486,-179.5 480,-173.5 480,-167.5 480,-167.5 480,-123.5 480,-123.5 480,-117.5 486,-111.5 492,-111.5 492,-111.5 584,-111.5 584,-111.5 590,-111.5 596,-117.5 596,-123.5 596,-123.5 596,-167.5 596,-167.5 596,-173.5 590,-179.5 584,-179.5\"/>\n<text text-anchor=\"start\" x=\"495.5\" y=\"-164.3\" font-family=\"Helvetica,sans-Serif\" font-size=\"14.00\" fill=\"#000000\">entropy = 0.0</text>\n<text text-anchor=\"start\" x=\"498.5\" y=\"-149.3\" font-family=\"Helvetica,sans-Serif\" font-size=\"14.00\" fill=\"#000000\">samples = 2</text>\n<text text-anchor=\"start\" x=\"488.5\" y=\"-134.3\" font-family=\"Helvetica,sans-Serif\" font-size=\"14.00\" fill=\"#000000\">value = [0, 2, 0]</text>\n<text text-anchor=\"start\" x=\"488\" y=\"-119.3\" font-family=\"Helvetica,sans-Serif\" font-size=\"14.00\" fill=\"#000000\">class = class_1</text>\n</g>\n<!-- 10&#45;&gt;11 -->\n<g id=\"edge11\" class=\"edge\">\n<title>10&#45;&gt;11</title>\n<path fill=\"none\" stroke=\"#000000\" d=\"M546.4532,-222.8796C545.288,-212.2134 544.0305,-200.7021 542.8506,-189.9015\"/>\n<polygon fill=\"#000000\" stroke=\"#000000\" points=\"546.3141,-189.3757 541.7487,-179.8149 539.3555,-190.1359 546.3141,-189.3757\"/>\n</g>\n<!-- 12 -->\n<g id=\"node13\" class=\"node\">\n<title>12</title>\n<path fill=\"#e58139\" stroke=\"#000000\" d=\"M725.5,-179.5C725.5,-179.5 626.5,-179.5 626.5,-179.5 620.5,-179.5 614.5,-173.5 614.5,-167.5 614.5,-167.5 614.5,-123.5 614.5,-123.5 614.5,-117.5 620.5,-111.5 626.5,-111.5 626.5,-111.5 725.5,-111.5 725.5,-111.5 731.5,-111.5 737.5,-117.5 737.5,-123.5 737.5,-123.5 737.5,-167.5 737.5,-167.5 737.5,-173.5 731.5,-179.5 725.5,-179.5\"/>\n<text text-anchor=\"start\" x=\"633.5\" y=\"-164.3\" font-family=\"Helvetica,sans-Serif\" font-size=\"14.00\" fill=\"#000000\">entropy = 0.0</text>\n<text text-anchor=\"start\" x=\"632\" y=\"-149.3\" font-family=\"Helvetica,sans-Serif\" font-size=\"14.00\" fill=\"#000000\">samples = 45</text>\n<text text-anchor=\"start\" x=\"622.5\" y=\"-134.3\" font-family=\"Helvetica,sans-Serif\" font-size=\"14.00\" fill=\"#000000\">value = [45, 0, 0]</text>\n<text text-anchor=\"start\" x=\"626\" y=\"-119.3\" font-family=\"Helvetica,sans-Serif\" font-size=\"14.00\" fill=\"#000000\">class = class_0</text>\n</g>\n<!-- 10&#45;&gt;12 -->\n<g id=\"edge12\" class=\"edge\">\n<title>10&#45;&gt;12</title>\n<path fill=\"none\" stroke=\"#000000\" d=\"M594.7189,-222.8796C606.9625,-211.2237 620.2661,-198.5587 632.4971,-186.9148\"/>\n<polygon fill=\"#000000\" stroke=\"#000000\" points=\"635.1254,-189.245 639.9549,-179.8149 630.2988,-184.1751 635.1254,-189.245\"/>\n</g>\n</g>\n</svg>\n"
          },
          "metadata": {
            "tags": []
          },
          "execution_count": 9
        },
        {
          "output_type": "display_data",
          "data": {
            "image/png": "[encoded data removed]",
            "text/plain": [
              "<Figure size 432x288 with 1 Axes>"
            ]
          },
          "metadata": {
            "tags": [],
            "needs_background": "light"
          }
        }
      ]
    },
    {
      "cell_type": "code",
      "metadata": {
        "colab": {
          "base_uri": "https://localhost:8080/"
        },
        "id": "wmWfYJZbYPAN",
        "outputId": "dbdd5906-fd15-4adb-92af-bf99dacc9278"
      },
      "source": [
        "r = export_text(dt_ent, data.feature_names)\n",
        "print(r)"
      ],
      "execution_count": null,
      "outputs": [
        {
          "output_type": "stream",
          "text": [
            "|--- flavanoids <= 1.58\n",
            "|   |--- color_intensity <= 3.90\n",
            "|   |   |--- class: 1\n",
            "|   |--- color_intensity >  3.90\n",
            "|   |   |--- class: 2\n",
            "|--- flavanoids >  1.58\n",
            "|   |--- proline <= 724.50\n",
            "|   |   |--- alcalinity_of_ash <= 17.75\n",
            "|   |   |   |--- malic_acid <= 3.03\n",
            "|   |   |   |   |--- class: 1\n",
            "|   |   |   |--- malic_acid >  3.03\n",
            "|   |   |   |   |--- class: 0\n",
            "|   |   |--- alcalinity_of_ash >  17.75\n",
            "|   |   |   |--- class: 1\n",
            "|   |--- proline >  724.50\n",
            "|   |   |--- color_intensity <= 3.46\n",
            "|   |   |   |--- class: 1\n",
            "|   |   |--- color_intensity >  3.46\n",
            "|   |   |   |--- class: 0\n",
            "\n"
          ],
          "name": "stdout"
        }
      ]
    },
    {
      "cell_type": "code",
      "metadata": {
        "colab": {
          "base_uri": "https://localhost:8080/",
          "height": 483
        },
        "id": "eyABs58rxMdl",
        "outputId": "d860ac63-ab99-4afb-e3d7-9cf58f3e5426"
      },
      "source": [
        "feat_imp_ent = pd.DataFrame(dt_ent.feature_importances_)\n",
        "feat_imp_ent.insert(1, \"Atributo\", data.feature_names, True)\n",
        "feat_imp_ent = feat_imp_ent.rename(columns={0:'Importancia_Entropia'})\n",
        "feat_imp_ent = feat_imp_ent.set_index('Atributo')\n",
        "feat_imp_ent.sort_values(by='Importancia_Entropia', ascending=False)"
      ],
      "execution_count": null,
      "outputs": [
        {
          "output_type": "execute_result",
          "data": {
            "text/html": [
              "<div>\n",
              "<style scoped>\n",
              "    .dataframe tbody tr th:only-of-type {\n",
              "        vertical-align: middle;\n",
              "    }\n",
              "\n",
              "    .dataframe tbody tr th {\n",
              "        vertical-align: top;\n",
              "    }\n",
              "\n",
              "    .dataframe thead th {\n",
              "        text-align: right;\n",
              "    }\n",
              "</style>\n",
              "<table border=\"1\" class=\"dataframe\">\n",
              "  <thead>\n",
              "    <tr style=\"text-align: right;\">\n",
              "      <th></th>\n",
              "      <th>Importancia_Entropia</th>\n",
              "    </tr>\n",
              "    <tr>\n",
              "      <th>Atributo</th>\n",
              "      <th></th>\n",
              "    </tr>\n",
              "  </thead>\n",
              "  <tbody>\n",
              "    <tr>\n",
              "      <th>flavanoids</th>\n",
              "      <td>0.452088</td>\n",
              "    </tr>\n",
              "    <tr>\n",
              "      <th>proline</th>\n",
              "      <td>0.324259</td>\n",
              "    </tr>\n",
              "    <tr>\n",
              "      <th>color_intensity</th>\n",
              "      <td>0.191536</td>\n",
              "    </tr>\n",
              "    <tr>\n",
              "      <th>alcalinity_of_ash</th>\n",
              "      <td>0.022596</td>\n",
              "    </tr>\n",
              "    <tr>\n",
              "      <th>malic_acid</th>\n",
              "      <td>0.009521</td>\n",
              "    </tr>\n",
              "    <tr>\n",
              "      <th>alcohol</th>\n",
              "      <td>0.000000</td>\n",
              "    </tr>\n",
              "    <tr>\n",
              "      <th>ash</th>\n",
              "      <td>0.000000</td>\n",
              "    </tr>\n",
              "    <tr>\n",
              "      <th>magnesium</th>\n",
              "      <td>0.000000</td>\n",
              "    </tr>\n",
              "    <tr>\n",
              "      <th>total_phenols</th>\n",
              "      <td>0.000000</td>\n",
              "    </tr>\n",
              "    <tr>\n",
              "      <th>nonflavanoid_phenols</th>\n",
              "      <td>0.000000</td>\n",
              "    </tr>\n",
              "    <tr>\n",
              "      <th>proanthocyanins</th>\n",
              "      <td>0.000000</td>\n",
              "    </tr>\n",
              "    <tr>\n",
              "      <th>hue</th>\n",
              "      <td>0.000000</td>\n",
              "    </tr>\n",
              "    <tr>\n",
              "      <th>od280/od315_of_diluted_wines</th>\n",
              "      <td>0.000000</td>\n",
              "    </tr>\n",
              "  </tbody>\n",
              "</table>\n",
              "</div>"
            ],
            "text/plain": [
              "                              Importancia_Entropia\n",
              "Atributo                                          \n",
              "flavanoids                                0.452088\n",
              "proline                                   0.324259\n",
              "color_intensity                           0.191536\n",
              "alcalinity_of_ash                         0.022596\n",
              "malic_acid                                0.009521\n",
              "alcohol                                   0.000000\n",
              "ash                                       0.000000\n",
              "magnesium                                 0.000000\n",
              "total_phenols                             0.000000\n",
              "nonflavanoid_phenols                      0.000000\n",
              "proanthocyanins                           0.000000\n",
              "hue                                       0.000000\n",
              "od280/od315_of_diluted_wines              0.000000"
            ]
          },
          "metadata": {
            "tags": []
          },
          "execution_count": 11
        }
      ]
    },
    {
      "cell_type": "markdown",
      "metadata": {
        "id": "WUBRfkscyk1N"
      },
      "source": [
        "# Comparacão da relevância dos atributos"
      ]
    },
    {
      "cell_type": "code",
      "metadata": {
        "colab": {
          "base_uri": "https://localhost:8080/",
          "height": 483
        },
        "id": "V2nyCiNcypgR",
        "outputId": "5889abfe-66ff-4cf1-ba0f-2adf42fce189"
      },
      "source": [
        "feat_imp = feat_imp_gini.copy()\n",
        "feat_imp = feat_imp.merge(feat_imp_ent, left_index=True, right_index=True)\n",
        "feat_imp = feat_imp.sort_values(['Importancia_Gini', 'Importancia_Entropia'], ascending=False)\n",
        "feat_imp"
      ],
      "execution_count": null,
      "outputs": [
        {
          "output_type": "execute_result",
          "data": {
            "text/html": [
              "<div>\n",
              "<style scoped>\n",
              "    .dataframe tbody tr th:only-of-type {\n",
              "        vertical-align: middle;\n",
              "    }\n",
              "\n",
              "    .dataframe tbody tr th {\n",
              "        vertical-align: top;\n",
              "    }\n",
              "\n",
              "    .dataframe thead th {\n",
              "        text-align: right;\n",
              "    }\n",
              "</style>\n",
              "<table border=\"1\" class=\"dataframe\">\n",
              "  <thead>\n",
              "    <tr style=\"text-align: right;\">\n",
              "      <th></th>\n",
              "      <th>Importancia_Gini</th>\n",
              "      <th>Importancia_Entropia</th>\n",
              "    </tr>\n",
              "    <tr>\n",
              "      <th>Atributo</th>\n",
              "      <th></th>\n",
              "      <th></th>\n",
              "    </tr>\n",
              "  </thead>\n",
              "  <tbody>\n",
              "    <tr>\n",
              "      <th>flavanoids</th>\n",
              "      <td>0.442524</td>\n",
              "      <td>0.452088</td>\n",
              "    </tr>\n",
              "    <tr>\n",
              "      <th>color_intensity</th>\n",
              "      <td>0.412187</td>\n",
              "      <td>0.191536</td>\n",
              "    </tr>\n",
              "    <tr>\n",
              "      <th>proline</th>\n",
              "      <td>0.079951</td>\n",
              "      <td>0.324259</td>\n",
              "    </tr>\n",
              "    <tr>\n",
              "      <th>malic_acid</th>\n",
              "      <td>0.043178</td>\n",
              "      <td>0.009521</td>\n",
              "    </tr>\n",
              "    <tr>\n",
              "      <th>ash</th>\n",
              "      <td>0.022160</td>\n",
              "      <td>0.000000</td>\n",
              "    </tr>\n",
              "    <tr>\n",
              "      <th>alcalinity_of_ash</th>\n",
              "      <td>0.000000</td>\n",
              "      <td>0.022596</td>\n",
              "    </tr>\n",
              "    <tr>\n",
              "      <th>alcohol</th>\n",
              "      <td>0.000000</td>\n",
              "      <td>0.000000</td>\n",
              "    </tr>\n",
              "    <tr>\n",
              "      <th>magnesium</th>\n",
              "      <td>0.000000</td>\n",
              "      <td>0.000000</td>\n",
              "    </tr>\n",
              "    <tr>\n",
              "      <th>total_phenols</th>\n",
              "      <td>0.000000</td>\n",
              "      <td>0.000000</td>\n",
              "    </tr>\n",
              "    <tr>\n",
              "      <th>nonflavanoid_phenols</th>\n",
              "      <td>0.000000</td>\n",
              "      <td>0.000000</td>\n",
              "    </tr>\n",
              "    <tr>\n",
              "      <th>proanthocyanins</th>\n",
              "      <td>0.000000</td>\n",
              "      <td>0.000000</td>\n",
              "    </tr>\n",
              "    <tr>\n",
              "      <th>hue</th>\n",
              "      <td>0.000000</td>\n",
              "      <td>0.000000</td>\n",
              "    </tr>\n",
              "    <tr>\n",
              "      <th>od280/od315_of_diluted_wines</th>\n",
              "      <td>0.000000</td>\n",
              "      <td>0.000000</td>\n",
              "    </tr>\n",
              "  </tbody>\n",
              "</table>\n",
              "</div>"
            ],
            "text/plain": [
              "                              Importancia_Gini  Importancia_Entropia\n",
              "Atributo                                                            \n",
              "flavanoids                            0.442524              0.452088\n",
              "color_intensity                       0.412187              0.191536\n",
              "proline                               0.079951              0.324259\n",
              "malic_acid                            0.043178              0.009521\n",
              "ash                                   0.022160              0.000000\n",
              "alcalinity_of_ash                     0.000000              0.022596\n",
              "alcohol                               0.000000              0.000000\n",
              "magnesium                             0.000000              0.000000\n",
              "total_phenols                         0.000000              0.000000\n",
              "nonflavanoid_phenols                  0.000000              0.000000\n",
              "proanthocyanins                       0.000000              0.000000\n",
              "hue                                   0.000000              0.000000\n",
              "od280/od315_of_diluted_wines          0.000000              0.000000"
            ]
          },
          "metadata": {
            "tags": []
          },
          "execution_count": 12
        }
      ]
    },
    {
      "cell_type": "code",
      "metadata": {
        "colab": {
          "base_uri": "https://localhost:8080/",
          "height": 571
        },
        "id": "R_1uQAe0z3-2",
        "outputId": "d7727572-1d94-4c62-dea4-6d784ef85b95"
      },
      "source": [
        "feat_imp.plot.bar(figsize=[12,6], legend=True, fontsize=15, rot=45, grid=True)"
      ],
      "execution_count": null,
      "outputs": [
        {
          "output_type": "execute_result",
          "data": {
            "text/plain": [
              "<matplotlib.axes._subplots.AxesSubplot at 0x7f2dbf342950>"
            ]
          },
          "metadata": {
            "tags": []
          },
          "execution_count": 13
        },
        {
          "output_type": "display_data",
          "data": {
            "image/png": "[encoded data removed]",
            "text/plain": [
              "<Figure size 864x432 with 1 Axes>"
            ]
          },
          "metadata": {
            "tags": [],
            "needs_background": "light"
          }
        }
      ]
    },
    {
      "cell_type": "markdown",
      "metadata": {
        "id": "BZQbH3aHgnfD"
      },
      "source": [
        "# Qual o impacto no desempenho?"
      ]
    },
    {
      "cell_type": "code",
      "metadata": {
        "id": "hjw9pEGLYPDh"
      },
      "source": [
        "clfs = [dt_gini, dt_ent]\n",
        "indices = ['Gini', 'Entropia']\n",
        "\n",
        "bal_acc_results_list = []\n",
        "\n",
        "for clf in clfs:\n",
        "  train_acc = balanced_accuracy_score(y_train, clf.predict(X_train))\n",
        "  test_acc  = balanced_accuracy_score(y_test, clf.predict(X_test))\n",
        "\n",
        "  bal_acc_results_list.append({'Treino': train_acc, 'Teste': test_acc})\n",
        "\n",
        "df_bal_acc_results = pd.DataFrame(bal_acc_results_list)"
      ],
      "execution_count": null,
      "outputs": []
    },
    {
      "cell_type": "code",
      "metadata": {
        "id": "AuEJ53l_nyTj"
      },
      "source": [
        "df_bal_acc_results.insert(2, \"Criterio\", indices, True)\n",
        "df_bal_acc_results = df_bal_acc_results.set_index('Criterio')"
      ],
      "execution_count": null,
      "outputs": []
    },
    {
      "cell_type": "code",
      "metadata": {
        "colab": {
          "base_uri": "https://localhost:8080/",
          "height": 466
        },
        "id": "trMHv_Laqpf9",
        "outputId": "84a752ba-a5cc-4af8-a21f-ab4df95aa938"
      },
      "source": [
        "df_bal_acc_results.plot.bar(figsize=[8,6], legend=True, fontsize=15, rot=45, grid=True, yticks=[0.8, 0.85, 0.9, 0.95, 1.0], ylim=[0.8, 1.0], title='Árvores de Decisão')"
      ],
      "execution_count": null,
      "outputs": [
        {
          "output_type": "execute_result",
          "data": {
            "text/plain": [
              "<matplotlib.axes._subplots.AxesSubplot at 0x7f2dbf3caa90>"
            ]
          },
          "metadata": {
            "tags": []
          },
          "execution_count": 16
        },
        {
          "output_type": "display_data",
          "data": {
            "image/png": "[encoded data removed]",
            "text/plain": [
              "<Figure size 576x432 with 1 Axes>"
            ]
          },
          "metadata": {
            "tags": [],
            "needs_background": "light"
          }
        }
      ]
    },
    {
      "cell_type": "markdown",
      "metadata": {
        "id": "COeggqpb1QCe"
      },
      "source": [
        "# Agora é a sua vez!  \n",
        "\n",
        "Escolha um parâmetro para otimizar e observe o impacto no desempenho das suas árvores de decisão!\n",
        "\n",
        "- **max_depth**: int, default=None\n",
        "The maximum depth of the tree. If None, then nodes are expanded until all leaves are pure or until all leaves contain less than min_samples_split samples.\n",
        "\n",
        "- **min_samples_split**: int or float, default=2\n",
        "The minimum number of samples required to split an internal node:\n",
        "\n",
        "  - If int, then consider min_samples_split as the minimum number.\n",
        "\n",
        "  - If float, then min_samples_split is a fraction and ceil(min_samples_split * n_samples) are the minimum number of samples for each split.\n",
        "\n",
        "- **min_samples_leaf**: int or float, default=1\n",
        "The minimum number of samples required to be at a leaf node. A split point at any depth will only be considered if it leaves at least min_samples_leaf training samples in each of the left and right branches. This may have the effect of smoothing the model, especially in regression.\n",
        "\n",
        "  - If int, then consider min_samples_leaf as the minimum number.\n",
        "\n",
        "  - If float, then min_samples_leaf is a fraction and ceil(min_samples_leaf * n_samples) are the minimum number of samples for each node.\n",
        "\n",
        "- **max_features**: int, float or {“auto”, “sqrt”, “log2”}, default=None\n",
        "The number of features to consider when looking for the best split:\n",
        "\n",
        "  - If int, then consider max_features features at each split.\n",
        "\n",
        "  - If float, then max_features is a fraction and int(max_features * n_features) features are considered at each split.\n",
        "\n",
        "  - If “auto”, then max_features=sqrt(n_features).\n",
        "\n",
        "  - If “sqrt”, then max_features=sqrt(n_features).\n",
        "\n",
        "  - If “log2”, then max_features=log2(n_features).\n",
        "\n",
        "  - If None, then max_features=n_features.\n",
        "\n",
        "  - Note: the search for a split does not stop until at least one valid partition of the node samples is found, even if it requires to effectively inspect more than max_features features."
      ]
    },
    {
      "cell_type": "code",
      "metadata": {
        "id": "CA8WstspqprP",
        "colab": {
          "base_uri": "https://localhost:8080/",
          "height": 652
        },
        "outputId": "b1eaf5fb-d6f2-40d2-ce2a-6074d8613c27"
      },
      "source": [
        "# min_samples_leaf=5, min_samples_split=5\n",
        "dt_min_samples_leaf = DecisionTreeClassifier(class_weight=None, criterion='gini', max_depth=None, max_features=None, max_leaf_nodes=None, min_impurity_split=None, min_samples_leaf=5, min_samples_split=5, min_weight_fraction_leaf=0.0,\n",
        "presort=False, random_state=10, splitter='best')\n",
        "dt_min_samples_leaf.fit(X_train, y_train)\n",
        "plot_tree_complete(dt_min_samples_leaf, data)"
      ],
      "execution_count": null,
      "outputs": [
        {
          "output_type": "stream",
          "text": [
            "/usr/local/lib/python3.7/dist-packages/sklearn/tree/_classes.py:319: FutureWarning: The parameter 'presort' is deprecated and has no effect. It will be removed in v0.24. You can suppress this warning by not passing any value to the 'presort' parameter.\n",
            "  FutureWarning)\n"
          ],
          "name": "stderr"
        },
        {
          "output_type": "execute_result",
          "data": {
            "text/plain": [
              "<graphviz.files.Source at 0x7f2dbee4b110>"
            ],
            "image/svg+xml": "<?xml version=\"1.0\" encoding=\"UTF-8\" standalone=\"no\"?>\n<!DOCTYPE svg PUBLIC \"-//W3C//DTD SVG 1.1//EN\"\n \"http://www.w3.org/Graphics/SVG/1.1/DTD/svg11.dtd\">\n<!-- Generated by graphviz version 2.40.1 (20161225.0304)\n -->\n<!-- Title: Tree Pages: 1 -->\n<svg width=\"620pt\" height=\"433pt\"\n viewBox=\"0.00 0.00 620.00 433.00\" xmlns=\"http://www.w3.org/2000/svg\" xmlns:xlink=\"http://www.w3.org/1999/xlink\">\n<g id=\"graph0\" class=\"graph\" transform=\"scale(1 1) rotate(0) translate(4 429)\">\n<title>Tree</title>\n<polygon fill=\"#ffffff\" stroke=\"transparent\" points=\"-4,4 -4,-429 616,-429 616,4 -4,4\"/>\n<!-- 0 -->\n<g id=\"node1\" class=\"node\">\n<title>0</title>\n<path fill=\"#fafefc\" stroke=\"#000000\" d=\"M338,-425C338,-425 201,-425 201,-425 195,-425 189,-419 189,-413 189,-413 189,-354 189,-354 189,-348 195,-342 201,-342 201,-342 338,-342 338,-342 344,-342 350,-348 350,-354 350,-354 350,-413 350,-413 350,-419 344,-425 338,-425\"/>\n<text text-anchor=\"start\" x=\"197\" y=\"-409.8\" font-family=\"Helvetica,sans-Serif\" font-size=\"14.00\" fill=\"#000000\">color_intensity ≤ 3.945</text>\n<text text-anchor=\"start\" x=\"231.5\" y=\"-394.8\" font-family=\"Helvetica,sans-Serif\" font-size=\"14.00\" fill=\"#000000\">gini = 0.664</text>\n<text text-anchor=\"start\" x=\"221.5\" y=\"-379.8\" font-family=\"Helvetica,sans-Serif\" font-size=\"14.00\" fill=\"#000000\">samples = 133</text>\n<text text-anchor=\"start\" x=\"207.5\" y=\"-364.8\" font-family=\"Helvetica,sans-Serif\" font-size=\"14.00\" fill=\"#000000\">value = [46, 48, 39]</text>\n<text text-anchor=\"start\" x=\"219.5\" y=\"-349.8\" font-family=\"Helvetica,sans-Serif\" font-size=\"14.00\" fill=\"#000000\">class = class_1</text>\n</g>\n<!-- 1 -->\n<g id=\"node2\" class=\"node\">\n<title>1</title>\n<path fill=\"#4fe88f\" stroke=\"#000000\" d=\"M247,-306C247,-306 148,-306 148,-306 142,-306 136,-300 136,-294 136,-294 136,-235 136,-235 136,-229 142,-223 148,-223 148,-223 247,-223 247,-223 253,-223 259,-229 259,-235 259,-235 259,-294 259,-294 259,-300 253,-306 247,-306\"/>\n<text text-anchor=\"start\" x=\"149.5\" y=\"-290.8\" font-family=\"Helvetica,sans-Serif\" font-size=\"14.00\" fill=\"#000000\">proline ≤ 772.0</text>\n<text text-anchor=\"start\" x=\"159.5\" y=\"-275.8\" font-family=\"Helvetica,sans-Serif\" font-size=\"14.00\" fill=\"#000000\">gini = 0.177</text>\n<text text-anchor=\"start\" x=\"153.5\" y=\"-260.8\" font-family=\"Helvetica,sans-Serif\" font-size=\"14.00\" fill=\"#000000\">samples = 51</text>\n<text text-anchor=\"start\" x=\"144\" y=\"-245.8\" font-family=\"Helvetica,sans-Serif\" font-size=\"14.00\" fill=\"#000000\">value = [5, 46, 0]</text>\n<text text-anchor=\"start\" x=\"147.5\" y=\"-230.8\" font-family=\"Helvetica,sans-Serif\" font-size=\"14.00\" fill=\"#000000\">class = class_1</text>\n</g>\n<!-- 0&#45;&gt;1 -->\n<g id=\"edge1\" class=\"edge\">\n<title>0&#45;&gt;1</title>\n<path fill=\"none\" stroke=\"#000000\" d=\"M244.3179,-341.8796C239.0867,-333.2335 233.5195,-324.0322 228.1177,-315.1042\"/>\n<polygon fill=\"#000000\" stroke=\"#000000\" points=\"230.9608,-313.0421 222.7896,-306.2981 224.9717,-316.6658 230.9608,-313.0421\"/>\n<text text-anchor=\"middle\" x=\"216.816\" y=\"-326.8739\" font-family=\"Helvetica,sans-Serif\" font-size=\"14.00\" fill=\"#000000\">True</text>\n</g>\n<!-- 4 -->\n<g id=\"node5\" class=\"node\">\n<title>4</title>\n<path fill=\"#fef9f6\" stroke=\"#000000\" d=\"M396,-306C396,-306 289,-306 289,-306 283,-306 277,-300 277,-294 277,-294 277,-235 277,-235 277,-229 283,-223 289,-223 289,-223 396,-223 396,-223 402,-223 408,-229 408,-235 408,-235 408,-294 408,-294 408,-300 402,-306 396,-306\"/>\n<text text-anchor=\"start\" x=\"287.5\" y=\"-290.8\" font-family=\"Helvetica,sans-Serif\" font-size=\"14.00\" fill=\"#000000\">flavanoids ≤ 1.88</text>\n<text text-anchor=\"start\" x=\"304.5\" y=\"-275.8\" font-family=\"Helvetica,sans-Serif\" font-size=\"14.00\" fill=\"#000000\">gini = 0.523</text>\n<text text-anchor=\"start\" x=\"298.5\" y=\"-260.8\" font-family=\"Helvetica,sans-Serif\" font-size=\"14.00\" fill=\"#000000\">samples = 82</text>\n<text text-anchor=\"start\" x=\"285\" y=\"-245.8\" font-family=\"Helvetica,sans-Serif\" font-size=\"14.00\" fill=\"#000000\">value = [41, 2, 39]</text>\n<text text-anchor=\"start\" x=\"292.5\" y=\"-230.8\" font-family=\"Helvetica,sans-Serif\" font-size=\"14.00\" fill=\"#000000\">class = class_0</text>\n</g>\n<!-- 0&#45;&gt;4 -->\n<g id=\"edge4\" class=\"edge\">\n<title>0&#45;&gt;4</title>\n<path fill=\"none\" stroke=\"#000000\" d=\"M295.0319,-341.8796C300.391,-333.1434 306.0979,-323.8404 311.6282,-314.8253\"/>\n<polygon fill=\"#000000\" stroke=\"#000000\" points=\"314.6135,-316.6522 316.8592,-306.2981 308.6467,-312.9919 314.6135,-316.6522\"/>\n<text text-anchor=\"middle\" x=\"322.6839\" y=\"-326.9101\" font-family=\"Helvetica,sans-Serif\" font-size=\"14.00\" fill=\"#000000\">False</text>\n</g>\n<!-- 2 -->\n<g id=\"node3\" class=\"node\">\n<title>2</title>\n<path fill=\"#39e581\" stroke=\"#000000\" d=\"M111,-179.5C111,-179.5 12,-179.5 12,-179.5 6,-179.5 0,-173.5 0,-167.5 0,-167.5 0,-123.5 0,-123.5 0,-117.5 6,-111.5 12,-111.5 12,-111.5 111,-111.5 111,-111.5 117,-111.5 123,-117.5 123,-123.5 123,-123.5 123,-167.5 123,-167.5 123,-173.5 117,-179.5 111,-179.5\"/>\n<text text-anchor=\"start\" x=\"32\" y=\"-164.3\" font-family=\"Helvetica,sans-Serif\" font-size=\"14.00\" fill=\"#000000\">gini = 0.0</text>\n<text text-anchor=\"start\" x=\"17.5\" y=\"-149.3\" font-family=\"Helvetica,sans-Serif\" font-size=\"14.00\" fill=\"#000000\">samples = 44</text>\n<text text-anchor=\"start\" x=\"8\" y=\"-134.3\" font-family=\"Helvetica,sans-Serif\" font-size=\"14.00\" fill=\"#000000\">value = [0, 44, 0]</text>\n<text text-anchor=\"start\" x=\"11.5\" y=\"-119.3\" font-family=\"Helvetica,sans-Serif\" font-size=\"14.00\" fill=\"#000000\">class = class_1</text>\n</g>\n<!-- 1&#45;&gt;2 -->\n<g id=\"edge2\" class=\"edge\">\n<title>1&#45;&gt;2</title>\n<path fill=\"none\" stroke=\"#000000\" d=\"M149.9338,-222.8796C136.4872,-211.1138 121.8653,-198.3197 108.4549,-186.5855\"/>\n<polygon fill=\"#000000\" stroke=\"#000000\" points=\"110.5476,-183.766 100.7171,-179.8149 105.9381,-189.034 110.5476,-183.766\"/>\n</g>\n<!-- 3 -->\n<g id=\"node4\" class=\"node\">\n<title>3</title>\n<path fill=\"#efb388\" stroke=\"#000000\" d=\"M245.5,-179.5C245.5,-179.5 153.5,-179.5 153.5,-179.5 147.5,-179.5 141.5,-173.5 141.5,-167.5 141.5,-167.5 141.5,-123.5 141.5,-123.5 141.5,-117.5 147.5,-111.5 153.5,-111.5 153.5,-111.5 245.5,-111.5 245.5,-111.5 251.5,-111.5 257.5,-117.5 257.5,-123.5 257.5,-123.5 257.5,-167.5 257.5,-167.5 257.5,-173.5 251.5,-179.5 245.5,-179.5\"/>\n<text text-anchor=\"start\" x=\"161.5\" y=\"-164.3\" font-family=\"Helvetica,sans-Serif\" font-size=\"14.00\" fill=\"#000000\">gini = 0.408</text>\n<text text-anchor=\"start\" x=\"160\" y=\"-149.3\" font-family=\"Helvetica,sans-Serif\" font-size=\"14.00\" fill=\"#000000\">samples = 7</text>\n<text text-anchor=\"start\" x=\"150\" y=\"-134.3\" font-family=\"Helvetica,sans-Serif\" font-size=\"14.00\" fill=\"#000000\">value = [5, 2, 0]</text>\n<text text-anchor=\"start\" x=\"149.5\" y=\"-119.3\" font-family=\"Helvetica,sans-Serif\" font-size=\"14.00\" fill=\"#000000\">class = class_0</text>\n</g>\n<!-- 1&#45;&gt;3 -->\n<g id=\"edge3\" class=\"edge\">\n<title>1&#45;&gt;3</title>\n<path fill=\"none\" stroke=\"#000000\" d=\"M198.1995,-222.8796C198.3788,-212.2134 198.5722,-200.7021 198.7538,-189.9015\"/>\n<polygon fill=\"#000000\" stroke=\"#000000\" points=\"202.2546,-189.8724 198.9233,-179.8149 195.2556,-189.7547 202.2546,-189.8724\"/>\n</g>\n<!-- 5 -->\n<g id=\"node6\" class=\"node\">\n<title>5</title>\n<path fill=\"#8139e5\" stroke=\"#000000\" d=\"M390,-179.5C390,-179.5 291,-179.5 291,-179.5 285,-179.5 279,-173.5 279,-167.5 279,-167.5 279,-123.5 279,-123.5 279,-117.5 285,-111.5 291,-111.5 291,-111.5 390,-111.5 390,-111.5 396,-111.5 402,-117.5 402,-123.5 402,-123.5 402,-167.5 402,-167.5 402,-173.5 396,-179.5 390,-179.5\"/>\n<text text-anchor=\"start\" x=\"311\" y=\"-164.3\" font-family=\"Helvetica,sans-Serif\" font-size=\"14.00\" fill=\"#000000\">gini = 0.0</text>\n<text text-anchor=\"start\" x=\"296.5\" y=\"-149.3\" font-family=\"Helvetica,sans-Serif\" font-size=\"14.00\" fill=\"#000000\">samples = 39</text>\n<text text-anchor=\"start\" x=\"287\" y=\"-134.3\" font-family=\"Helvetica,sans-Serif\" font-size=\"14.00\" fill=\"#000000\">value = [0, 0, 39]</text>\n<text text-anchor=\"start\" x=\"290.5\" y=\"-119.3\" font-family=\"Helvetica,sans-Serif\" font-size=\"14.00\" fill=\"#000000\">class = class_2</text>\n</g>\n<!-- 4&#45;&gt;5 -->\n<g id=\"edge5\" class=\"edge\">\n<title>4&#45;&gt;5</title>\n<path fill=\"none\" stroke=\"#000000\" d=\"M341.8005,-222.8796C341.6212,-212.2134 341.4278,-200.7021 341.2462,-189.9015\"/>\n<polygon fill=\"#000000\" stroke=\"#000000\" points=\"344.7444,-189.7547 341.0767,-179.8149 337.7454,-189.8724 344.7444,-189.7547\"/>\n</g>\n<!-- 6 -->\n<g id=\"node7\" class=\"node\">\n<title>6</title>\n<path fill=\"#e68743\" stroke=\"#000000\" d=\"M531,-187C531,-187 432,-187 432,-187 426,-187 420,-181 420,-175 420,-175 420,-116 420,-116 420,-110 426,-104 432,-104 432,-104 531,-104 531,-104 537,-104 543,-110 543,-116 543,-116 543,-175 543,-175 543,-181 537,-187 531,-187\"/>\n<text text-anchor=\"start\" x=\"433.5\" y=\"-171.8\" font-family=\"Helvetica,sans-Serif\" font-size=\"14.00\" fill=\"#000000\">proline ≤ 837.5</text>\n<text text-anchor=\"start\" x=\"443.5\" y=\"-156.8\" font-family=\"Helvetica,sans-Serif\" font-size=\"14.00\" fill=\"#000000\">gini = 0.089</text>\n<text text-anchor=\"start\" x=\"437.5\" y=\"-141.8\" font-family=\"Helvetica,sans-Serif\" font-size=\"14.00\" fill=\"#000000\">samples = 43</text>\n<text text-anchor=\"start\" x=\"428\" y=\"-126.8\" font-family=\"Helvetica,sans-Serif\" font-size=\"14.00\" fill=\"#000000\">value = [41, 2, 0]</text>\n<text text-anchor=\"start\" x=\"431.5\" y=\"-111.8\" font-family=\"Helvetica,sans-Serif\" font-size=\"14.00\" fill=\"#000000\">class = class_0</text>\n</g>\n<!-- 4&#45;&gt;6 -->\n<g id=\"edge6\" class=\"edge\">\n<title>4&#45;&gt;6</title>\n<path fill=\"none\" stroke=\"#000000\" d=\"M391.1155,-222.8796C402.0562,-213.513 413.7582,-203.4948 424.9908,-193.8784\"/>\n<polygon fill=\"#000000\" stroke=\"#000000\" points=\"427.3568,-196.4603 432.677,-187.2981 422.8044,-191.1428 427.3568,-196.4603\"/>\n</g>\n<!-- 7 -->\n<g id=\"node8\" class=\"node\">\n<title>7</title>\n<path fill=\"#f6d5bd\" stroke=\"#000000\" d=\"M458.5,-68C458.5,-68 366.5,-68 366.5,-68 360.5,-68 354.5,-62 354.5,-56 354.5,-56 354.5,-12 354.5,-12 354.5,-6 360.5,0 366.5,0 366.5,0 458.5,0 458.5,0 464.5,0 470.5,-6 470.5,-12 470.5,-12 470.5,-56 470.5,-56 470.5,-62 464.5,-68 458.5,-68\"/>\n<text text-anchor=\"start\" x=\"379\" y=\"-52.8\" font-family=\"Helvetica,sans-Serif\" font-size=\"14.00\" fill=\"#000000\">gini = 0.48</text>\n<text text-anchor=\"start\" x=\"373\" y=\"-37.8\" font-family=\"Helvetica,sans-Serif\" font-size=\"14.00\" fill=\"#000000\">samples = 5</text>\n<text text-anchor=\"start\" x=\"363\" y=\"-22.8\" font-family=\"Helvetica,sans-Serif\" font-size=\"14.00\" fill=\"#000000\">value = [3, 2, 0]</text>\n<text text-anchor=\"start\" x=\"362.5\" y=\"-7.8\" font-family=\"Helvetica,sans-Serif\" font-size=\"14.00\" fill=\"#000000\">class = class_0</text>\n</g>\n<!-- 6&#45;&gt;7 -->\n<g id=\"edge7\" class=\"edge\">\n<title>6&#45;&gt;7</title>\n<path fill=\"none\" stroke=\"#000000\" d=\"M455.8069,-103.9815C450.3469,-95.1585 444.5716,-85.8258 439.0793,-76.9506\"/>\n<polygon fill=\"#000000\" stroke=\"#000000\" points=\"441.942,-74.9254 433.7035,-68.2637 435.9896,-78.609 441.942,-74.9254\"/>\n</g>\n<!-- 8 -->\n<g id=\"node9\" class=\"node\">\n<title>8</title>\n<path fill=\"#e58139\" stroke=\"#000000\" d=\"M600,-68C600,-68 501,-68 501,-68 495,-68 489,-62 489,-56 489,-56 489,-12 489,-12 489,-6 495,0 501,0 501,0 600,0 600,0 606,0 612,-6 612,-12 612,-12 612,-56 612,-56 612,-62 606,-68 600,-68\"/>\n<text text-anchor=\"start\" x=\"521\" y=\"-52.8\" font-family=\"Helvetica,sans-Serif\" font-size=\"14.00\" fill=\"#000000\">gini = 0.0</text>\n<text text-anchor=\"start\" x=\"506.5\" y=\"-37.8\" font-family=\"Helvetica,sans-Serif\" font-size=\"14.00\" fill=\"#000000\">samples = 38</text>\n<text text-anchor=\"start\" x=\"497\" y=\"-22.8\" font-family=\"Helvetica,sans-Serif\" font-size=\"14.00\" fill=\"#000000\">value = [38, 0, 0]</text>\n<text text-anchor=\"start\" x=\"500.5\" y=\"-7.8\" font-family=\"Helvetica,sans-Serif\" font-size=\"14.00\" fill=\"#000000\">class = class_0</text>\n</g>\n<!-- 6&#45;&gt;8 -->\n<g id=\"edge8\" class=\"edge\">\n<title>6&#45;&gt;8</title>\n<path fill=\"none\" stroke=\"#000000\" d=\"M507.1931,-103.9815C512.6531,-95.1585 518.4284,-85.8258 523.9207,-76.9506\"/>\n<polygon fill=\"#000000\" stroke=\"#000000\" points=\"527.0104,-78.609 529.2965,-68.2637 521.058,-74.9254 527.0104,-78.609\"/>\n</g>\n</g>\n</svg>\n"
          },
          "metadata": {
            "tags": []
          },
          "execution_count": 61
        }
      ]
    },
    {
      "cell_type": "code",
      "metadata": {
        "id": "_QdRWrGlqpwX",
        "colab": {
          "base_uri": "https://localhost:8080/",
          "height": 483
        },
        "outputId": "8fe9f9cc-ba0e-406c-a99f-e3b44fe1dac3"
      },
      "source": [
        "feat_impdt_min_samples_leaf = pd.DataFrame(dt_min_samples_leaf.feature_importances_)\n",
        "feat_impdt_min_samples_leaf.insert(1, \"Atributo\", data.feature_names, True)\n",
        "feat_impdt_min_samples_leaf = feat_impdt_min_samples_leaf.rename(columns={0:'Min_Samples_Leaf'})\n",
        "feat_impdt_min_samples_leaf = feat_impdt_min_samples_leaf.set_index('Atributo')\n",
        "feat_impdt_min_samples_leaf.sort_values(by='Min_Samples_Leaf', ascending=False)"
      ],
      "execution_count": null,
      "outputs": [
        {
          "output_type": "execute_result",
          "data": {
            "text/html": [
              "<div>\n",
              "<style scoped>\n",
              "    .dataframe tbody tr th:only-of-type {\n",
              "        vertical-align: middle;\n",
              "    }\n",
              "\n",
              "    .dataframe tbody tr th {\n",
              "        vertical-align: top;\n",
              "    }\n",
              "\n",
              "    .dataframe thead th {\n",
              "        text-align: right;\n",
              "    }\n",
              "</style>\n",
              "<table border=\"1\" class=\"dataframe\">\n",
              "  <thead>\n",
              "    <tr style=\"text-align: right;\">\n",
              "      <th></th>\n",
              "      <th>Min_Samples_Leaf</th>\n",
              "    </tr>\n",
              "    <tr>\n",
              "      <th>Atributo</th>\n",
              "      <th></th>\n",
              "    </tr>\n",
              "  </thead>\n",
              "  <tbody>\n",
              "    <tr>\n",
              "      <th>flavanoids</th>\n",
              "      <td>0.470528</td>\n",
              "    </tr>\n",
              "    <tr>\n",
              "      <th>color_intensity</th>\n",
              "      <td>0.438271</td>\n",
              "    </tr>\n",
              "    <tr>\n",
              "      <th>proline</th>\n",
              "      <td>0.091201</td>\n",
              "    </tr>\n",
              "    <tr>\n",
              "      <th>alcohol</th>\n",
              "      <td>0.000000</td>\n",
              "    </tr>\n",
              "    <tr>\n",
              "      <th>malic_acid</th>\n",
              "      <td>0.000000</td>\n",
              "    </tr>\n",
              "    <tr>\n",
              "      <th>ash</th>\n",
              "      <td>0.000000</td>\n",
              "    </tr>\n",
              "    <tr>\n",
              "      <th>alcalinity_of_ash</th>\n",
              "      <td>0.000000</td>\n",
              "    </tr>\n",
              "    <tr>\n",
              "      <th>magnesium</th>\n",
              "      <td>0.000000</td>\n",
              "    </tr>\n",
              "    <tr>\n",
              "      <th>total_phenols</th>\n",
              "      <td>0.000000</td>\n",
              "    </tr>\n",
              "    <tr>\n",
              "      <th>nonflavanoid_phenols</th>\n",
              "      <td>0.000000</td>\n",
              "    </tr>\n",
              "    <tr>\n",
              "      <th>proanthocyanins</th>\n",
              "      <td>0.000000</td>\n",
              "    </tr>\n",
              "    <tr>\n",
              "      <th>hue</th>\n",
              "      <td>0.000000</td>\n",
              "    </tr>\n",
              "    <tr>\n",
              "      <th>od280/od315_of_diluted_wines</th>\n",
              "      <td>0.000000</td>\n",
              "    </tr>\n",
              "  </tbody>\n",
              "</table>\n",
              "</div>"
            ],
            "text/plain": [
              "                              Min_Samples_Leaf\n",
              "Atributo                                      \n",
              "flavanoids                            0.470528\n",
              "color_intensity                       0.438271\n",
              "proline                               0.091201\n",
              "alcohol                               0.000000\n",
              "malic_acid                            0.000000\n",
              "ash                                   0.000000\n",
              "alcalinity_of_ash                     0.000000\n",
              "magnesium                             0.000000\n",
              "total_phenols                         0.000000\n",
              "nonflavanoid_phenols                  0.000000\n",
              "proanthocyanins                       0.000000\n",
              "hue                                   0.000000\n",
              "od280/od315_of_diluted_wines          0.000000"
            ]
          },
          "metadata": {
            "tags": []
          },
          "execution_count": 62
        }
      ]
    },
    {
      "cell_type": "code",
      "metadata": {
        "id": "bsw8HMo32Krf"
      },
      "source": [
        "clfs = [dt_gini, dt_ent, dt_min_samples_leaf]\n",
        "indices = ['Gini', 'Entropia', 'Leaf']\n",
        "\n",
        "bal_acc_results_list = []\n",
        "\n",
        "for clf in clfs:\n",
        "  train_acc = balanced_accuracy_score(y_train, clf.predict(X_train))\n",
        "  test_acc  = balanced_accuracy_score(y_test, clf.predict(X_test))\n",
        "  \n",
        "  bal_acc_results_list.append({'Treino': train_acc, 'Teste': test_acc})\n",
        "\n",
        "df_bal_acc_results = pd.DataFrame(bal_acc_results_list)"
      ],
      "execution_count": null,
      "outputs": []
    },
    {
      "cell_type": "code",
      "metadata": {
        "id": "tmMxjSSCgpSh"
      },
      "source": [
        "df_bal_acc_results.insert(2, \"Criterio\", indices, True)\n",
        "df_bal_acc_results = df_bal_acc_results.set_index('Criterio')"
      ],
      "execution_count": null,
      "outputs": []
    },
    {
      "cell_type": "code",
      "metadata": {
        "colab": {
          "base_uri": "https://localhost:8080/",
          "height": 466
        },
        "id": "m_m2Td_DUAkC",
        "outputId": "a8f678f7-5a97-453a-9877-02d23ca7c7d3"
      },
      "source": [
        "df_bal_acc_results.plot.bar(figsize=[8,6], legend=True, fontsize=15, rot=45, grid=True, yticks=[0.8, 0.85, 0.9, 0.95, 1.0], ylim=[0.8, 1.0], title='Árvores de Decisão')"
      ],
      "execution_count": null,
      "outputs": [
        {
          "output_type": "execute_result",
          "data": {
            "text/plain": [
              "<matplotlib.axes._subplots.AxesSubplot at 0x7f2dbedc5450>"
            ]
          },
          "metadata": {
            "tags": []
          },
          "execution_count": 65
        },
        {
          "output_type": "display_data",
          "data": {
            "image/png": "[encoded data removed]",
            "text/plain": [
              "<Figure size 576x432 with 1 Axes>"
            ]
          },
          "metadata": {
            "tags": [],
            "needs_background": "light"
          }
        }
      ]
    }
  ]
}