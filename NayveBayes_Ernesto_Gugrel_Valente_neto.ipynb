{
  "nbformat": 4,
  "nbformat_minor": 0,
  "metadata": {
    "colab": {
      "name": "NayveBayes_Ernesto_Gugrel_Valente_neto.ipynb",
      "provenance": [],
      "collapsed_sections": []
    },
    "kernelspec": {
      "name": "python3",
      "display_name": "Python 3"
    },
    "language_info": {
      "name": "python"
    }
  },
  "cells": [
    {
      "cell_type": "code",
      "metadata": {
        "id": "cOsPQ7kY2Ibd"
      },
      "source": [
        "# Ernesto Gurgel Valente Neto"
      ],
      "execution_count": null,
      "outputs": []
    },
    {
      "cell_type": "markdown",
      "metadata": {
        "id": "4cvWslqhr7Ud"
      },
      "source": [
        "# Agora é a sua vez! \n",
        "\n",
        "Qual a performance média que podemos esperar para esses classificadores no conjunto IRIS?\n",
        "\n",
        "Escolha uma metodologia para avaliacao e 2 métricas (justifique sua resposta)."
      ]
    },
    {
      "cell_type": "code",
      "metadata": {
        "colab": {
          "base_uri": "https://localhost:8080/"
        },
        "id": "ziHIbiQQMrvo",
        "outputId": "3ab5f8e9-427d-472f-da0d-ce541fc702c3"
      },
      "source": [
        "from google.colab import drive\n",
        "drive.mount('/content/drive')"
      ],
      "execution_count": null,
      "outputs": [
        {
          "output_type": "stream",
          "text": [
            "Drive already mounted at /content/drive; to attempt to forcibly remount, call drive.mount(\"/content/drive\", force_remount=True).\n"
          ],
          "name": "stdout"
        }
      ]
    },
    {
      "cell_type": "markdown",
      "metadata": {
        "id": "FW4WYhbNOz6r"
      },
      "source": [
        "#**Modelo/Algoritmo Bayesiano**\n",
        "#**Métricas de Classificação: Acurácia**\n"
      ]
    },
    {
      "cell_type": "code",
      "metadata": {
        "id": "1mbACebHNbau"
      },
      "source": [
        "from sklearn.model_selection import train_test_split\n",
        "from sklearn.preprocessing import StandardScaler\n",
        "from sklearn.neighbors import KernelDensity\n",
        "from sklearn.metrics import accuracy_score\n",
        "import pandas as pd\n",
        "import numpy as np\n",
        "\n",
        "#Carregamento dos dados\n",
        "data = pd.read_csv('iris.csv', header=(0))\n",
        "classes = np.array(pd.unique(data[data.columns[-1]]), dtype=str)  \n",
        "\n",
        "#conversao de vetor para vetor legivel pelo numpy\n",
        "data = data.to_numpy()\n",
        "nrow,ncol = data.shape\n",
        "y = data[:,-1]\n",
        "X = data[:,0:ncol-1]"
      ],
      "execution_count": null,
      "outputs": []
    },
    {
      "cell_type": "code",
      "metadata": {
        "id": "wos34ErwN0uN"
      },
      "source": [
        "# transformação dos dados\n",
        "scaler = StandardScaler().fit(X)\n",
        "X = scaler.transform(X)\n",
        "\n",
        "# Dados de treinamento\n",
        "# Dividindo 70% para treino e 30% para teste\n",
        "p = 0.70\n",
        "x_train, x_test, y_train, y_test = train_test_split(X, y, train_size = p, random_state = 42)"
      ],
      "execution_count": null,
      "outputs": []
    },
    {
      "cell_type": "code",
      "metadata": {
        "id": "6AmP2-EcN8hD"
      },
      "source": [
        "# Matriz que armazena as probabilidades\n",
        "P = pd.DataFrame(data=np.zeros((x_test.shape[0], len(classes))), columns = classes) \n",
        "Pc = np.zeros(len(classes)) \n",
        "h = 2\n",
        "for i in np.arange(0, len(classes)): \n",
        "    elements = tuple(np.where(y_train == classes[i]))\n",
        "    Pc[i] = len(elements)/len(y_train) \n",
        "    Z = x_train[elements,:][0] \n",
        "    kde = KernelDensity(kernel='gaussian', bandwidth=h).fit(Z)\n",
        "    for j in np.arange(0,x_test.shape[0]): \n",
        "        x = x_test[j,:]\n",
        "        x = x.reshape((1,len(x)))\n",
        "        pj = np.exp(kde.score_samples(x)) \n",
        "        P[classes[i]][j] = pj*Pc[i]\n",
        "        \n",
        "y_pred = []\n",
        "for i in np.arange(0, x_test.shape[0]):\n",
        "    c = np.argmax(np.array(P.iloc[[i]]))\n",
        "    y_pred.append(classes[c])\n",
        "y_pred = np.array(y_pred, dtype=str)\n"
      ],
      "execution_count": null,
      "outputs": []
    },
    {
      "cell_type": "code",
      "metadata": {
        "colab": {
          "base_uri": "https://localhost:8080/"
        },
        "id": "NwXjEMnQOUVN",
        "outputId": "a447284a-2849-410e-aad3-36f6b9cb085d"
      },
      "source": [
        "# calcula a acuracia\n",
        "acuraria = accuracy_score(y_pred, y_test)\n",
        "print('Acuracia:', acuraria)"
      ],
      "execution_count": null,
      "outputs": [
        {
          "output_type": "stream",
          "text": [
            "Acuracia: 0.8444444444444444\n"
          ],
          "name": "stdout"
        }
      ]
    },
    {
      "cell_type": "markdown",
      "metadata": {
        "id": "SrpQXf48RCxP"
      },
      "source": [
        "Realizando uma pesquisa na web me deparei com a conseguinte informação \" Classificador Bayesiano devido a que dado um dado, eu posso não saber à priori a classe, mas dado uma classe, eu talvez saiba à priori como são dos dados dessa classe\". Desconhecendo o objetivo do data set iris e imaginando que seja algo como prever a variação de petalas, tamanho ou forma, dito isso o Classificador foi escolhido pela óptima da classe em relação os custos de cometer erros"
      ]
    }
  ]
}