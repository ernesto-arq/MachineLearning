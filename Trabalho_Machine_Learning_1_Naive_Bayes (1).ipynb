{
  "nbformat": 4,
  "nbformat_minor": 0,
  "metadata": {
    "colab": {
      "name": "Trabalho_Machine_Learning_1_Naive_Bayes.ipynb",
      "provenance": [],
      "collapsed_sections": []
    },
    "kernelspec": {
      "name": "python3",
      "display_name": "Python 3"
    },
    "language_info": {
      "name": "python"
    }
  },
  "cells": [
    {
      "cell_type": "markdown",
      "metadata": {
        "id": "V37FUokQ97br"
      },
      "source": [
        "## **Trabalho de Machine Learning**\n",
        "**Professora:** Ananda Freire\n",
        "\n",
        "**Aluno:** Vinicius Cordeiro Nunes - 2030070"
      ]
    },
    {
      "cell_type": "markdown",
      "metadata": {
        "id": "Bw-RdxlMBnMP"
      },
      "source": [
        "> Importação das bibliotecas\n",
        "\n",
        "---\n",
        "\n"
      ]
    },
    {
      "cell_type": "code",
      "metadata": {
        "id": "8WO0TuFhg53F"
      },
      "source": [
        "import numpy as np\n",
        "import pandas as pd\n",
        "import matplotlib.pyplot as plt\n",
        "import seaborn as sns"
      ],
      "execution_count": null,
      "outputs": []
    },
    {
      "cell_type": "markdown",
      "metadata": {
        "id": "L5zI4wvpC5N7"
      },
      "source": [
        "> Importação da base de dados\n",
        "\n",
        "----"
      ]
    },
    {
      "cell_type": "code",
      "metadata": {
        "id": "N6VLW2n8D-Db"
      },
      "source": [
        "data = pd.read_csv('Iris.csv')"
      ],
      "execution_count": null,
      "outputs": []
    },
    {
      "cell_type": "code",
      "metadata": {
        "colab": {
          "base_uri": "https://localhost:8080/",
          "height": 424
        },
        "id": "gzCdEhWaeUEI",
        "outputId": "e43d57cf-60b5-4568-d927-a3ba665613ec"
      },
      "source": [
        "data"
      ],
      "execution_count": null,
      "outputs": [
        {
          "output_type": "execute_result",
          "data": {
            "text/html": [
              "<div>\n",
              "<style scoped>\n",
              "    .dataframe tbody tr th:only-of-type {\n",
              "        vertical-align: middle;\n",
              "    }\n",
              "\n",
              "    .dataframe tbody tr th {\n",
              "        vertical-align: top;\n",
              "    }\n",
              "\n",
              "    .dataframe thead th {\n",
              "        text-align: right;\n",
              "    }\n",
              "</style>\n",
              "<table border=\"1\" class=\"dataframe\">\n",
              "  <thead>\n",
              "    <tr style=\"text-align: right;\">\n",
              "      <th></th>\n",
              "      <th>Id</th>\n",
              "      <th>SepalLengthCm</th>\n",
              "      <th>SepalWidthCm</th>\n",
              "      <th>PetalLengthCm</th>\n",
              "      <th>PetalWidthCm</th>\n",
              "      <th>Species</th>\n",
              "    </tr>\n",
              "  </thead>\n",
              "  <tbody>\n",
              "    <tr>\n",
              "      <th>0</th>\n",
              "      <td>1</td>\n",
              "      <td>5.1</td>\n",
              "      <td>3.5</td>\n",
              "      <td>1.4</td>\n",
              "      <td>0.2</td>\n",
              "      <td>Iris-setosa</td>\n",
              "    </tr>\n",
              "    <tr>\n",
              "      <th>1</th>\n",
              "      <td>2</td>\n",
              "      <td>4.9</td>\n",
              "      <td>3.0</td>\n",
              "      <td>1.4</td>\n",
              "      <td>0.2</td>\n",
              "      <td>Iris-setosa</td>\n",
              "    </tr>\n",
              "    <tr>\n",
              "      <th>2</th>\n",
              "      <td>3</td>\n",
              "      <td>4.7</td>\n",
              "      <td>3.2</td>\n",
              "      <td>1.3</td>\n",
              "      <td>0.2</td>\n",
              "      <td>Iris-setosa</td>\n",
              "    </tr>\n",
              "    <tr>\n",
              "      <th>3</th>\n",
              "      <td>4</td>\n",
              "      <td>4.6</td>\n",
              "      <td>3.1</td>\n",
              "      <td>1.5</td>\n",
              "      <td>0.2</td>\n",
              "      <td>Iris-setosa</td>\n",
              "    </tr>\n",
              "    <tr>\n",
              "      <th>4</th>\n",
              "      <td>5</td>\n",
              "      <td>5.0</td>\n",
              "      <td>3.6</td>\n",
              "      <td>1.4</td>\n",
              "      <td>0.2</td>\n",
              "      <td>Iris-setosa</td>\n",
              "    </tr>\n",
              "    <tr>\n",
              "      <th>...</th>\n",
              "      <td>...</td>\n",
              "      <td>...</td>\n",
              "      <td>...</td>\n",
              "      <td>...</td>\n",
              "      <td>...</td>\n",
              "      <td>...</td>\n",
              "    </tr>\n",
              "    <tr>\n",
              "      <th>145</th>\n",
              "      <td>146</td>\n",
              "      <td>6.7</td>\n",
              "      <td>3.0</td>\n",
              "      <td>5.2</td>\n",
              "      <td>2.3</td>\n",
              "      <td>Iris-virginica</td>\n",
              "    </tr>\n",
              "    <tr>\n",
              "      <th>146</th>\n",
              "      <td>147</td>\n",
              "      <td>6.3</td>\n",
              "      <td>2.5</td>\n",
              "      <td>5.0</td>\n",
              "      <td>1.9</td>\n",
              "      <td>Iris-virginica</td>\n",
              "    </tr>\n",
              "    <tr>\n",
              "      <th>147</th>\n",
              "      <td>148</td>\n",
              "      <td>6.5</td>\n",
              "      <td>3.0</td>\n",
              "      <td>5.2</td>\n",
              "      <td>2.0</td>\n",
              "      <td>Iris-virginica</td>\n",
              "    </tr>\n",
              "    <tr>\n",
              "      <th>148</th>\n",
              "      <td>149</td>\n",
              "      <td>6.2</td>\n",
              "      <td>3.4</td>\n",
              "      <td>5.4</td>\n",
              "      <td>2.3</td>\n",
              "      <td>Iris-virginica</td>\n",
              "    </tr>\n",
              "    <tr>\n",
              "      <th>149</th>\n",
              "      <td>150</td>\n",
              "      <td>5.9</td>\n",
              "      <td>3.0</td>\n",
              "      <td>5.1</td>\n",
              "      <td>1.8</td>\n",
              "      <td>Iris-virginica</td>\n",
              "    </tr>\n",
              "  </tbody>\n",
              "</table>\n",
              "<p>150 rows × 6 columns</p>\n",
              "</div>"
            ],
            "text/plain": [
              "      Id  SepalLengthCm  ...  PetalWidthCm         Species\n",
              "0      1            5.1  ...           0.2     Iris-setosa\n",
              "1      2            4.9  ...           0.2     Iris-setosa\n",
              "2      3            4.7  ...           0.2     Iris-setosa\n",
              "3      4            4.6  ...           0.2     Iris-setosa\n",
              "4      5            5.0  ...           0.2     Iris-setosa\n",
              "..   ...            ...  ...           ...             ...\n",
              "145  146            6.7  ...           2.3  Iris-virginica\n",
              "146  147            6.3  ...           1.9  Iris-virginica\n",
              "147  148            6.5  ...           2.0  Iris-virginica\n",
              "148  149            6.2  ...           2.3  Iris-virginica\n",
              "149  150            5.9  ...           1.8  Iris-virginica\n",
              "\n",
              "[150 rows x 6 columns]"
            ]
          },
          "metadata": {
            "tags": []
          },
          "execution_count": 19
        }
      ]
    },
    {
      "cell_type": "markdown",
      "metadata": {
        "id": "KAAkcSuNwRjY"
      },
      "source": [
        "> Visualização dos dados de estudo\n",
        "\n",
        "-----"
      ]
    },
    {
      "cell_type": "code",
      "metadata": {
        "colab": {
          "base_uri": "https://localhost:8080/",
          "height": 478
        },
        "id": "nYc2HwKVdT91",
        "outputId": "4c3bd2e7-2a99-4871-a77b-30cd451b895b"
      },
      "source": [
        "sns.set_style(\"whitegrid\")\n",
        "\n",
        "print(\"Gráfico 1 - Altura das pétalas\")\n",
        "\n",
        "sns.FacetGrid(data, hue =\"Species\",\n",
        "              height = 6).map(plt.scatter,\n",
        "                              'SepalLengthCm',\n",
        "                              'PetalLengthCm').add_legend()"
      ],
      "execution_count": null,
      "outputs": [
        {
          "output_type": "stream",
          "text": [
            "Gráfico 1 - Altura das pétalas\n"
          ],
          "name": "stdout"
        },
        {
          "output_type": "execute_result",
          "data": {
            "text/plain": [
              "<seaborn.axisgrid.FacetGrid at 0x7f008d853810>"
            ]
          },
          "metadata": {
            "tags": []
          },
          "execution_count": 11
        },
        {
          "output_type": "display_data",
          "data": {
            "image/png": "[encoded data removed]",
            "text/plain": [
              "<Figure size 535.25x432 with 1 Axes>"
            ]
          },
          "metadata": {
            "tags": []
          }
        }
      ]
    },
    {
      "cell_type": "code",
      "metadata": {
        "colab": {
          "base_uri": "https://localhost:8080/",
          "height": 478
        },
        "id": "-F_1MuLqiIca",
        "outputId": "bbc95f85-2b67-4240-a1ad-bcce12c10afe"
      },
      "source": [
        "print(\"Gráficos 2 - Largura das pétalas\")\n",
        "sns.FacetGrid(data, hue =\"Species\",\n",
        "              height = 6).map(plt.scatter,\n",
        "                              'SepalWidthCm',\n",
        "                              'PetalWidthCm').add_legend()"
      ],
      "execution_count": null,
      "outputs": [
        {
          "output_type": "stream",
          "text": [
            "Gráficos 2 - Largura das pétalas\n"
          ],
          "name": "stdout"
        },
        {
          "output_type": "execute_result",
          "data": {
            "text/plain": [
              "<seaborn.axisgrid.FacetGrid at 0x7f0080cfb550>"
            ]
          },
          "metadata": {
            "tags": []
          },
          "execution_count": 12
        },
        {
          "output_type": "display_data",
          "data": {
            "image/png": "[encoded data removed]",
            "text/plain": [
              "<Figure size 535.25x432 with 1 Axes>"
            ]
          },
          "metadata": {
            "tags": []
          }
        }
      ]
    },
    {
      "cell_type": "markdown",
      "metadata": {
        "id": "iKuU1GSOwo5A"
      },
      "source": [
        "# Escolha do Modelo de Avaliação"
      ]
    },
    {
      "cell_type": "markdown",
      "metadata": {
        "id": "pxR7pEjBS9HT"
      },
      "source": [
        "De acordo com os gráficos acima, podemos identificar que as classes classificadas estão seguimentadas/clusterizadas.\n",
        "\n",
        "Uma vez visualidados os distanciamentos entre as classes da base de dados, precisamos garantir que em qualquer amostra de treinamento exista pelo menos um registro/tupla de todas as classes. Para isso, utilizaremos o **Modelo de Avaliação: VALIDAÇÃO CRUZADA**."
      ]
    },
    {
      "cell_type": "markdown",
      "metadata": {
        "id": "TNMRsLvjw24F"
      },
      "source": [
        "# Escolha das Métricas de Classificação"
      ]
    },
    {
      "cell_type": "markdown",
      "metadata": {
        "id": "EHcf7QccYsrI"
      },
      "source": [
        "Agora, vamos testar as Métricas de Classificação para selecionar a que melhor se adequa aos dados de estudo."
      ]
    },
    {
      "cell_type": "markdown",
      "metadata": {
        "id": "xqS01v-fgwj6"
      },
      "source": [
        "> Importando base dados Iris do sklearn e instanciando as labels e os dados.\n",
        "\n",
        "----"
      ]
    },
    {
      "cell_type": "code",
      "metadata": {
        "id": "5toZvH21a9oy"
      },
      "source": [
        "from sklearn import datasets\n",
        "\n",
        "iris = datasets.load_iris()\n",
        "\n",
        "X_data = iris.data\n",
        "y_labels = iris.target"
      ],
      "execution_count": null,
      "outputs": []
    },
    {
      "cell_type": "markdown",
      "metadata": {
        "id": "3cAFnGB8hVPF"
      },
      "source": [
        "> Vamos utilzar alguns Modelos constantes no pacote Naive Bayes para as predições dentro das métricas.\n",
        "\n",
        "----"
      ]
    },
    {
      "cell_type": "code",
      "metadata": {
        "id": "PtgU8uVIgv5E"
      },
      "source": [
        "from sklearn.naive_bayes import GaussianNB\n",
        "from sklearn.naive_bayes import MultinomialNB\n",
        "from sklearn.naive_bayes import CategoricalNB\n",
        "from sklearn.naive_bayes import ComplementNB\n",
        "\n",
        "from sklearn import datasets\n",
        "from sklearn.metrics import accuracy_score,confusion_matrix, plot_confusion_matrix,recall_score,precision_score\n",
        "from sklearn.model_selection import cross_validate, cross_val_score\n",
        "from sklearn.model_selection import train_test_split"
      ],
      "execution_count": null,
      "outputs": []
    },
    {
      "cell_type": "markdown",
      "metadata": {
        "id": "kNwpoUwDmokh"
      },
      "source": [
        "## Testes com o Modelo de Avaliação escolhido: Validação Cruzada"
      ]
    },
    {
      "cell_type": "markdown",
      "metadata": {
        "id": "g7gXi-0rtVCp"
      },
      "source": [
        "> Métricas de Classificação que testaremos em nosso estudo\n",
        "\n",
        "----\n"
      ]
    },
    {
      "cell_type": "code",
      "metadata": {
        "id": "VVf2f50_nr94"
      },
      "source": [
        "scoring = ['accuracy', 'balanced_accuracy','f1_macro','precision_macro','recall_macro']"
      ],
      "execution_count": null,
      "outputs": []
    },
    {
      "cell_type": "markdown",
      "metadata": {
        "id": "GHXHxRlGtqkQ"
      },
      "source": [
        "> Método para facilitação de reuso\n",
        "\n",
        "----"
      ]
    },
    {
      "cell_type": "code",
      "metadata": {
        "id": "_8twfw4fiw0J"
      },
      "source": [
        "def test_model(model):\n",
        "  return cross_validate(model,X_data,y_labels,scoring=scoring,cv=3)"
      ],
      "execution_count": null,
      "outputs": []
    },
    {
      "cell_type": "markdown",
      "metadata": {
        "id": "CDkyRSOVt9mk"
      },
      "source": [
        "> Teste com algoritmo ComplementNB - CNB\n",
        "\n",
        "----"
      ]
    },
    {
      "cell_type": "code",
      "metadata": {
        "colab": {
          "base_uri": "https://localhost:8080/"
        },
        "id": "hsJdEpkbqdeG",
        "outputId": "909f3f84-fd9a-4483-cf80-a51f71a6f5ec"
      },
      "source": [
        "test_model(ComplementNB())"
      ],
      "execution_count": null,
      "outputs": [
        {
          "output_type": "stream",
          "text": [
            "/usr/local/lib/python3.7/dist-packages/sklearn/metrics/_classification.py:1272: UndefinedMetricWarning: Precision is ill-defined and being set to 0.0 in labels with no predicted samples. Use `zero_division` parameter to control this behavior.\n",
            "  _warn_prf(average, modifier, msg_start, len(result))\n",
            "/usr/local/lib/python3.7/dist-packages/sklearn/metrics/_classification.py:1272: UndefinedMetricWarning: Precision is ill-defined and being set to 0.0 in labels with no predicted samples. Use `zero_division` parameter to control this behavior.\n",
            "  _warn_prf(average, modifier, msg_start, len(result))\n",
            "/usr/local/lib/python3.7/dist-packages/sklearn/metrics/_classification.py:1272: UndefinedMetricWarning: Precision is ill-defined and being set to 0.0 in labels with no predicted samples. Use `zero_division` parameter to control this behavior.\n",
            "  _warn_prf(average, modifier, msg_start, len(result))\n"
          ],
          "name": "stderr"
        },
        {
          "output_type": "execute_result",
          "data": {
            "text/plain": [
              "{'fit_time': array([0.00137758, 0.00187039, 0.00082302]),\n",
              " 'score_time': array([0.0056479 , 0.00440335, 0.00297475]),\n",
              " 'test_accuracy': array([0.66, 0.68, 0.66]),\n",
              " 'test_balanced_accuracy': array([0.66666667, 0.66666667, 0.66666667]),\n",
              " 'test_f1_macro': array([0.55102041, 0.55510204, 0.55555556]),\n",
              " 'test_precision_macro': array([0.49494949, 0.49189815, 0.5       ]),\n",
              " 'test_recall_macro': array([0.66666667, 0.66666667, 0.66666667])}"
            ]
          },
          "metadata": {
            "tags": []
          },
          "execution_count": 44
        }
      ]
    },
    {
      "cell_type": "markdown",
      "metadata": {
        "id": "109laYhvuuu8"
      },
      "source": [
        "> Teste com algoritmo CategoricalNB\n",
        "\n",
        "----"
      ]
    },
    {
      "cell_type": "code",
      "metadata": {
        "colab": {
          "base_uri": "https://localhost:8080/"
        },
        "id": "8Zh9IAFCqoX6",
        "outputId": "2cd28c3a-995a-4261-c3fd-32233c81944b"
      },
      "source": [
        "test_model(CategoricalNB())"
      ],
      "execution_count": null,
      "outputs": [
        {
          "output_type": "execute_result",
          "data": {
            "text/plain": [
              "{'fit_time': array([0.00397325, 0.00171208, 0.00264287]),\n",
              " 'score_time': array([0.00707221, 0.00308275, 0.00281525]),\n",
              " 'test_accuracy': array([0.94, 0.9 , 0.96]),\n",
              " 'test_balanced_accuracy': array([0.93872549, 0.90073529, 0.96078431]),\n",
              " 'test_f1_macro': array([0.93917051, 0.89861751, 0.96078431]),\n",
              " 'test_precision_macro': array([0.94074074, 0.90601504, 0.96078431]),\n",
              " 'test_recall_macro': array([0.93872549, 0.90073529, 0.96078431])}"
            ]
          },
          "metadata": {
            "tags": []
          },
          "execution_count": 45
        }
      ]
    },
    {
      "cell_type": "markdown",
      "metadata": {
        "id": "UrOPpA_vu8wW"
      },
      "source": [
        "> Teste com algoritmo MultinomialNB\n",
        "\n",
        "----"
      ]
    },
    {
      "cell_type": "code",
      "metadata": {
        "colab": {
          "base_uri": "https://localhost:8080/"
        },
        "id": "GzRPe-i0q2U0",
        "outputId": "3c519385-a0bc-4f2e-d1b9-7b8090c9a780"
      },
      "source": [
        "test_model(MultinomialNB())"
      ],
      "execution_count": null,
      "outputs": [
        {
          "output_type": "execute_result",
          "data": {
            "text/plain": [
              "{'fit_time': array([0.00182056, 0.00083494, 0.00076652]),\n",
              " 'score_time': array([0.00445819, 0.00251937, 0.00241375]),\n",
              " 'test_accuracy': array([0.96, 0.92, 0.96]),\n",
              " 'test_balanced_accuracy': array([0.96078431, 0.92156863, 0.96078431]),\n",
              " 'test_f1_macro': array([0.95955882, 0.91851852, 0.96078431]),\n",
              " 'test_precision_macro': array([0.96296296, 0.93333333, 0.96078431]),\n",
              " 'test_recall_macro': array([0.96078431, 0.92156863, 0.96078431])}"
            ]
          },
          "metadata": {
            "tags": []
          },
          "execution_count": 46
        }
      ]
    },
    {
      "cell_type": "markdown",
      "metadata": {
        "id": "iY6DKO64vBcE"
      },
      "source": [
        "> Teste com algoritmo GaussianNB\n",
        "\n",
        "----"
      ]
    },
    {
      "cell_type": "code",
      "metadata": {
        "colab": {
          "base_uri": "https://localhost:8080/"
        },
        "id": "krsQ2Ba2q-AK",
        "outputId": "cf530c67-dbb3-4390-a912-4689e69f59e6"
      },
      "source": [
        "test_model(GaussianNB())"
      ],
      "execution_count": null,
      "outputs": [
        {
          "output_type": "execute_result",
          "data": {
            "text/plain": [
              "{'fit_time': array([0.00086427, 0.00063396, 0.00059628]),\n",
              " 'score_time': array([0.00444436, 0.00261641, 0.00271511]),\n",
              " 'test_accuracy': array([0.92, 0.94, 0.96]),\n",
              " 'test_balanced_accuracy': array([0.92034314, 0.93872549, 0.96078431]),\n",
              " 'test_f1_macro': array([0.91911765, 0.93917051, 0.96064815]),\n",
              " 'test_precision_macro': array([0.92222222, 0.94074074, 0.96491228]),\n",
              " 'test_recall_macro': array([0.92034314, 0.93872549, 0.96078431])}"
            ]
          },
          "metadata": {
            "tags": []
          },
          "execution_count": 47
        }
      ]
    },
    {
      "cell_type": "markdown",
      "metadata": {
        "id": "g6NyPBurwAOP"
      },
      "source": [
        "De acordo com os testes, podemos constatar que as Métricas **Acurácia** e **Recall** são as mais próximas do acerto.\n",
        "Pois em todos os modelos elas se destacaram, mostrando que podem validar a predições de maneira otimizada."
      ]
    },
    {
      "cell_type": "markdown",
      "metadata": {
        "id": "gzw3dhLDxnzB"
      },
      "source": [
        "# **RESULTADO**"
      ]
    },
    {
      "cell_type": "markdown",
      "metadata": {
        "id": "H0OcKwGwxrGC"
      },
      "source": [
        "## Modelos de Avaliação: **Validação Cruzada**\n",
        "## Métricas de Classificação: **Acurácia** e **Recall**\n",
        "## Modelo/Algoritmo Naive Bayes: **MultinomialNB**"
      ]
    }
  ]
}